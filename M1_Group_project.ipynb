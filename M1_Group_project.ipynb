{
  "nbformat": 4,
  "nbformat_minor": 0,
  "metadata": {
    "colab": {
      "name": "M1 - Group project  ",
      "provenance": [],
      "collapsed_sections": []
    },
    "kernelspec": {
      "name": "python3",
      "display_name": "Python 3"
    }
  },
  "cells": [
    {
      "cell_type": "markdown",
      "metadata": {
        "id": "CC-Uu2mBWc7M",
        "colab_type": "text"
      },
      "source": [
        "#Notebook: Prediction of Risky Credit Customers"
      ]
    },
    {
      "cell_type": "markdown",
      "metadata": {
        "id": "AWXvTcAFiB1Y",
        "colab_type": "text"
      },
      "source": [
        "[https://colab.research.google.com/drive/1RJpoSujIxsxjQn0IaZH00b1uFww3u05O](https://colab.research.google.com/drive/1RJpoSujIxsxjQn0IaZH00b1uFww3u05O)\n",
        "\n",
        "**Link to Repository**\n",
        "\n",
        "[https://github.com/PernilleSilke/projekt](https://https://github.com/PernilleSilke/projekt)"
      ]
    },
    {
      "cell_type": "markdown",
      "metadata": {
        "id": "_0Y3EVZnW7Dr",
        "colab_type": "text"
      },
      "source": [
        "##Importing Dataset "
      ]
    },
    {
      "cell_type": "code",
      "metadata": {
        "id": "VMARcyYOUl5I",
        "colab_type": "code",
        "colab": {}
      },
      "source": [
        "#Importing the necessary pacakages that includes necessary functions for importing, cleaning and preprocessing data. \n",
        "import pandas as pd\n",
        "pd.set_option('display.float_format', lambda x: '%.3f' % x) \n",
        "import numpy as np"
      ],
      "execution_count": 0,
      "outputs": []
    },
    {
      "cell_type": "code",
      "metadata": {
        "id": "ZDNSlPwbURkb",
        "colab_type": "code",
        "colab": {}
      },
      "source": [
        "Credit_data = pd.read_csv('https://raw.githubusercontent.com/PernilleSilke/projekt/master/german_credit_data.csv?token=ANBLF6NR5VRAG6CNMNFAUQ25QH5ZA')"
      ],
      "execution_count": 0,
      "outputs": []
    },
    {
      "cell_type": "markdown",
      "metadata": {
        "id": "EOtbAF5zweGP",
        "colab_type": "text"
      },
      "source": [
        "##Explorative Data Analysis \n",
        "\n",
        "<p>First, we start this project by exploring the data. This gives an overview of the data and an idea of the correlations in the data. The explorative analysis consists of a describing part and a correlation part. The descriptive part will be an unfolding of the contents in the dataset, e.g. to explore which types, features and attributes we are dealing with. In the correlation part we are searching for relationships between the data in the dataset. </p>  "
      ]
    },
    {
      "cell_type": "markdown",
      "metadata": {
        "id": "jEHYzyrkngZy",
        "colab_type": "text"
      },
      "source": [
        "###Decriptive Data Analysis"
      ]
    },
    {
      "cell_type": "code",
      "metadata": {
        "id": "-DXcamkFL3we",
        "colab_type": "code",
        "outputId": "0cb06e66-feb2-4633-97be-037ec6c89a5e",
        "colab": {
          "base_uri": "https://localhost:8080/",
          "height": 301
        }
      },
      "source": [
        "\n",
        "Credit_data.info()"
      ],
      "execution_count": 0,
      "outputs": [
        {
          "output_type": "stream",
          "text": [
            "<class 'pandas.core.frame.DataFrame'>\n",
            "RangeIndex: 1000 entries, 0 to 999\n",
            "Data columns (total 11 columns):\n",
            "Unnamed: 0          1000 non-null int64\n",
            "Age                 1000 non-null int64\n",
            "Sex                 1000 non-null object\n",
            "Job                 1000 non-null int64\n",
            "Housing             1000 non-null object\n",
            "Saving accounts     817 non-null object\n",
            "Checking account    606 non-null object\n",
            "Credit amount       1000 non-null int64\n",
            "Duration            1000 non-null int64\n",
            "Purpose             1000 non-null object\n",
            "Risk                1000 non-null object\n",
            "dtypes: int64(5), object(6)\n",
            "memory usage: 86.0+ KB\n"
          ],
          "name": "stdout"
        }
      ]
    },
    {
      "cell_type": "markdown",
      "metadata": {
        "id": "rvME2GMlMHJ2",
        "colab_type": "text"
      },
      "source": [
        "The outcome above tells us that there are 1000 observations and 11 colmns in the dataset. We also see the names of the columns and their data type. This shows that we are working with different kinds of datatypes both numeric integer variables and objets containing text. Our goal is to convert the object features to numerical floats or integers, which is done in the preprocessing area further down.\n",
        "\n",
        "We also get an indication of some missing data in the columns 'Saving_accounts' and 'Checking account', since the number of observations are smaller in these columns. This is also taken care of in the preprocessing of the data. \n",
        "\n"
      ]
    },
    {
      "cell_type": "code",
      "metadata": {
        "id": "mfMF0ypNMKJI",
        "colab_type": "code",
        "outputId": "660b3c27-d4ce-42b3-fee9-769cd0b68c40",
        "colab": {
          "base_uri": "https://localhost:8080/",
          "height": 194
        }
      },
      "source": [
        "#Quick glance at the dataset\n",
        "Credit_data.head() "
      ],
      "execution_count": 0,
      "outputs": [
        {
          "output_type": "execute_result",
          "data": {
            "text/html": [
              "<div>\n",
              "<style scoped>\n",
              "    .dataframe tbody tr th:only-of-type {\n",
              "        vertical-align: middle;\n",
              "    }\n",
              "\n",
              "    .dataframe tbody tr th {\n",
              "        vertical-align: top;\n",
              "    }\n",
              "\n",
              "    .dataframe thead th {\n",
              "        text-align: right;\n",
              "    }\n",
              "</style>\n",
              "<table border=\"1\" class=\"dataframe\">\n",
              "  <thead>\n",
              "    <tr style=\"text-align: right;\">\n",
              "      <th></th>\n",
              "      <th>Unnamed: 0</th>\n",
              "      <th>Age</th>\n",
              "      <th>Sex</th>\n",
              "      <th>Job</th>\n",
              "      <th>Housing</th>\n",
              "      <th>Saving accounts</th>\n",
              "      <th>Checking account</th>\n",
              "      <th>Credit amount</th>\n",
              "      <th>Duration</th>\n",
              "      <th>Purpose</th>\n",
              "      <th>Risk</th>\n",
              "    </tr>\n",
              "  </thead>\n",
              "  <tbody>\n",
              "    <tr>\n",
              "      <th>0</th>\n",
              "      <td>0</td>\n",
              "      <td>67</td>\n",
              "      <td>male</td>\n",
              "      <td>2</td>\n",
              "      <td>own</td>\n",
              "      <td>NaN</td>\n",
              "      <td>little</td>\n",
              "      <td>1169</td>\n",
              "      <td>6</td>\n",
              "      <td>radio/TV</td>\n",
              "      <td>good</td>\n",
              "    </tr>\n",
              "    <tr>\n",
              "      <th>1</th>\n",
              "      <td>1</td>\n",
              "      <td>22</td>\n",
              "      <td>female</td>\n",
              "      <td>2</td>\n",
              "      <td>own</td>\n",
              "      <td>little</td>\n",
              "      <td>moderate</td>\n",
              "      <td>5951</td>\n",
              "      <td>48</td>\n",
              "      <td>radio/TV</td>\n",
              "      <td>bad</td>\n",
              "    </tr>\n",
              "    <tr>\n",
              "      <th>2</th>\n",
              "      <td>2</td>\n",
              "      <td>49</td>\n",
              "      <td>male</td>\n",
              "      <td>1</td>\n",
              "      <td>own</td>\n",
              "      <td>little</td>\n",
              "      <td>NaN</td>\n",
              "      <td>2096</td>\n",
              "      <td>12</td>\n",
              "      <td>education</td>\n",
              "      <td>good</td>\n",
              "    </tr>\n",
              "    <tr>\n",
              "      <th>3</th>\n",
              "      <td>3</td>\n",
              "      <td>45</td>\n",
              "      <td>male</td>\n",
              "      <td>2</td>\n",
              "      <td>free</td>\n",
              "      <td>little</td>\n",
              "      <td>little</td>\n",
              "      <td>7882</td>\n",
              "      <td>42</td>\n",
              "      <td>furniture/equipment</td>\n",
              "      <td>good</td>\n",
              "    </tr>\n",
              "    <tr>\n",
              "      <th>4</th>\n",
              "      <td>4</td>\n",
              "      <td>53</td>\n",
              "      <td>male</td>\n",
              "      <td>2</td>\n",
              "      <td>free</td>\n",
              "      <td>little</td>\n",
              "      <td>little</td>\n",
              "      <td>4870</td>\n",
              "      <td>24</td>\n",
              "      <td>car</td>\n",
              "      <td>bad</td>\n",
              "    </tr>\n",
              "  </tbody>\n",
              "</table>\n",
              "</div>"
            ],
            "text/plain": [
              "   Unnamed: 0  Age     Sex  ...  Duration              Purpose  Risk\n",
              "0           0   67    male  ...         6             radio/TV  good\n",
              "1           1   22  female  ...        48             radio/TV   bad\n",
              "2           2   49    male  ...        12            education  good\n",
              "3           3   45    male  ...        42  furniture/equipment  good\n",
              "4           4   53    male  ...        24                  car   bad\n",
              "\n",
              "[5 rows x 11 columns]"
            ]
          },
          "metadata": {
            "tags": []
          },
          "execution_count": 62
        }
      ]
    },
    {
      "cell_type": "markdown",
      "metadata": {
        "id": "YxnJ7BqTMNEv",
        "colab_type": "text"
      },
      "source": [
        "This output gives us an idea of what information the data set contains. In the dataset every unit has the features age, sex, job information, housing situation, the saving account and checking account in categories, the credit amount, duration of the loan, the purpose of the loan and whether the loaner is in good or bad risk. A deeper description of the features can be found in the stakeholder report.\n",
        " "
      ]
    },
    {
      "cell_type": "code",
      "metadata": {
        "id": "BBU9XEMFMWBS",
        "colab_type": "code",
        "outputId": "ebf8d82b-dbd4-47e9-b66d-d3ee729b4efd",
        "colab": {
          "base_uri": "https://localhost:8080/",
          "height": 70
        }
      },
      "source": [
        "#checking the columns for possible 'errors' which may affect the dataanalysis. \n",
        "Credit_data.columns\n"
      ],
      "execution_count": 0,
      "outputs": [
        {
          "output_type": "execute_result",
          "data": {
            "text/plain": [
              "Index(['Unnamed: 0', 'Age', 'Sex', 'Job', 'Housing', 'Saving accounts',\n",
              "       'Checking account', 'Credit amount', 'Duration', 'Purpose', 'Risk'],\n",
              "      dtype='object')"
            ]
          },
          "metadata": {
            "tags": []
          },
          "execution_count": 63
        }
      ]
    },
    {
      "cell_type": "markdown",
      "metadata": {
        "id": "kB9ZdtPSkv34",
        "colab_type": "text"
      },
      "source": [
        "We have noticed a space in the columns 'Saving account', 'Checking account'and 'Credit amount'. This may cause some trouble when calling on the columns later. Therefore we start renamening these. "
      ]
    },
    {
      "cell_type": "code",
      "metadata": {
        "id": "BwqqpocEMPzT",
        "colab_type": "code",
        "colab": {}
      },
      "source": [
        "Credit_data.rename(columns={'Saving accounts':'Saving_accounts'}, \n",
        "                 inplace=True)\n",
        "Credit_data.rename(columns={'Checking account':'Checking_account'}, \n",
        "                 inplace=True)\n",
        "Credit_data.rename(columns={'Credit amount':'Credit_amount'}, \n",
        "                 inplace=True)"
      ],
      "execution_count": 0,
      "outputs": []
    },
    {
      "cell_type": "markdown",
      "metadata": {
        "id": "xW08AWGSlnP6",
        "colab_type": "text"
      },
      "source": [
        "Now we want to get a better glance at the categories in the strings by printing the unique values of the columns. "
      ]
    },
    {
      "cell_type": "code",
      "metadata": {
        "id": "rdnZjaSrkW1V",
        "colab_type": "code",
        "outputId": "0a06146a-49f3-4045-e033-dde1983945f0",
        "colab": {
          "base_uri": "https://localhost:8080/",
          "height": 141
        }
      },
      "source": [
        "print(\"Sex : \",Credit_data.Sex.unique())\n",
        "print(\"Housing : \",Credit_data.Housing.unique())\n",
        "print(\"Saving accounts : \",Credit_data['Saving_accounts'].unique())\n",
        "print(\"Checking account : \",Credit_data['Checking_account'].unique())\n",
        "print(\"Purpose : \",Credit_data.Purpose.unique())\n",
        "print(\"Risk : \",Credit_data.Risk.unique())"
      ],
      "execution_count": 0,
      "outputs": [
        {
          "output_type": "stream",
          "text": [
            "Sex :  ['male' 'female']\n",
            "Housing :  ['own' 'free' 'rent']\n",
            "Saving accounts :  [nan 'little' 'quite rich' 'rich' 'moderate']\n",
            "Checking account :  ['little' 'moderate' nan 'rich']\n",
            "Purpose :  ['radio/TV' 'education' 'furniture/equipment' 'car' 'business'\n",
            " 'domestic appliances' 'repairs' 'vacation/others']\n",
            "Risk :  ['good' 'bad']\n"
          ],
          "name": "stdout"
        }
      ]
    },
    {
      "cell_type": "markdown",
      "metadata": {
        "id": "Ck2fFXjrMTYH",
        "colab_type": "text"
      },
      "source": [
        "From this it is clear that the **sex variable** is a dummy containing two categories (male, female). This same counts for 'Risk' with good and bad risk.\n",
        "\n",
        "The **housing variable** contains 3 categories own, rent or free housing\n",
        "\n",
        "The **saving account** is categorized in little, moderate, quite rich, rich. \n",
        "Nan indicates that there are some missing values in this variable and in Checking account (but we already knew that from the info display)\n",
        "\n",
        "The **checking account** is categorized in little, moderate and rich.\n",
        "\n",
        "Lastely **the purpose** of the loan is categorized in 8 categorize; Radio/TV, educational purposes, furniture/equipment, car, business, domestic appliances, repairs and vacation/others\n",
        "\n",
        "This gives a good idea of what information the strings contain. We now take a deeper look on the numerical variables "
      ]
    },
    {
      "cell_type": "code",
      "metadata": {
        "id": "bqBnMqWiMcYd",
        "colab_type": "code",
        "outputId": "195d683b-e9ff-44a1-ee42-ac123c9b2460",
        "colab": {
          "base_uri": "https://localhost:8080/",
          "height": 282
        }
      },
      "source": [
        "#describtion of numeric features:\n",
        "Credit_data.describe()"
      ],
      "execution_count": 0,
      "outputs": [
        {
          "output_type": "execute_result",
          "data": {
            "text/html": [
              "<div>\n",
              "<style scoped>\n",
              "    .dataframe tbody tr th:only-of-type {\n",
              "        vertical-align: middle;\n",
              "    }\n",
              "\n",
              "    .dataframe tbody tr th {\n",
              "        vertical-align: top;\n",
              "    }\n",
              "\n",
              "    .dataframe thead th {\n",
              "        text-align: right;\n",
              "    }\n",
              "</style>\n",
              "<table border=\"1\" class=\"dataframe\">\n",
              "  <thead>\n",
              "    <tr style=\"text-align: right;\">\n",
              "      <th></th>\n",
              "      <th>Unnamed: 0</th>\n",
              "      <th>Age</th>\n",
              "      <th>Job</th>\n",
              "      <th>Credit_amount</th>\n",
              "      <th>Duration</th>\n",
              "    </tr>\n",
              "  </thead>\n",
              "  <tbody>\n",
              "    <tr>\n",
              "      <th>count</th>\n",
              "      <td>1000.000</td>\n",
              "      <td>1000.000</td>\n",
              "      <td>1000.000</td>\n",
              "      <td>1000.000</td>\n",
              "      <td>1000.000</td>\n",
              "    </tr>\n",
              "    <tr>\n",
              "      <th>mean</th>\n",
              "      <td>499.500</td>\n",
              "      <td>35.546</td>\n",
              "      <td>1.904</td>\n",
              "      <td>3271.258</td>\n",
              "      <td>20.903</td>\n",
              "    </tr>\n",
              "    <tr>\n",
              "      <th>std</th>\n",
              "      <td>288.819</td>\n",
              "      <td>11.375</td>\n",
              "      <td>0.654</td>\n",
              "      <td>2822.737</td>\n",
              "      <td>12.059</td>\n",
              "    </tr>\n",
              "    <tr>\n",
              "      <th>min</th>\n",
              "      <td>0.000</td>\n",
              "      <td>19.000</td>\n",
              "      <td>0.000</td>\n",
              "      <td>250.000</td>\n",
              "      <td>4.000</td>\n",
              "    </tr>\n",
              "    <tr>\n",
              "      <th>25%</th>\n",
              "      <td>249.750</td>\n",
              "      <td>27.000</td>\n",
              "      <td>2.000</td>\n",
              "      <td>1365.500</td>\n",
              "      <td>12.000</td>\n",
              "    </tr>\n",
              "    <tr>\n",
              "      <th>50%</th>\n",
              "      <td>499.500</td>\n",
              "      <td>33.000</td>\n",
              "      <td>2.000</td>\n",
              "      <td>2319.500</td>\n",
              "      <td>18.000</td>\n",
              "    </tr>\n",
              "    <tr>\n",
              "      <th>75%</th>\n",
              "      <td>749.250</td>\n",
              "      <td>42.000</td>\n",
              "      <td>2.000</td>\n",
              "      <td>3972.250</td>\n",
              "      <td>24.000</td>\n",
              "    </tr>\n",
              "    <tr>\n",
              "      <th>max</th>\n",
              "      <td>999.000</td>\n",
              "      <td>75.000</td>\n",
              "      <td>3.000</td>\n",
              "      <td>18424.000</td>\n",
              "      <td>72.000</td>\n",
              "    </tr>\n",
              "  </tbody>\n",
              "</table>\n",
              "</div>"
            ],
            "text/plain": [
              "       Unnamed: 0      Age      Job  Credit_amount  Duration\n",
              "count    1000.000 1000.000 1000.000       1000.000  1000.000\n",
              "mean      499.500   35.546    1.904       3271.258    20.903\n",
              "std       288.819   11.375    0.654       2822.737    12.059\n",
              "min         0.000   19.000    0.000        250.000     4.000\n",
              "25%       249.750   27.000    2.000       1365.500    12.000\n",
              "50%       499.500   33.000    2.000       2319.500    18.000\n",
              "75%       749.250   42.000    2.000       3972.250    24.000\n",
              "max       999.000   75.000    3.000      18424.000    72.000"
            ]
          },
          "metadata": {
            "tags": []
          },
          "execution_count": 66
        }
      ]
    },
    {
      "cell_type": "markdown",
      "metadata": {
        "id": "AaNG8fe_Mh4t",
        "colab_type": "text"
      },
      "source": [
        "In this table we see that the average **age** of the entries in the dataset is 35,5 years, and that 75 % of the entries are below 42 years. The youngest person is 19 years old and the oldest is 75 years old.\n",
        "\n",
        "The **job** description ranging from 0 to 3 depending on how skilled the loaner is. As described in the stakeholder report 0 being the least skilled og 3 the highest skilled. We see that the mean in this case is 1.9, meaning there is a good distribution in this variable.\n",
        "\n",
        "The **credit amount** range from 250 til 18424, the mean being 3271,258 and 75 % being less than 3972,25.\n",
        "\n",
        "The **duration** of the loan varies from 4 to 72 months, with the aveage loan taking 20.9 months to repay. 75 % of the loans are repaid by 24 months.\n",
        "\n",
        "Now that we have a description of the data, we want to look for correlations. "
      ]
    },
    {
      "cell_type": "markdown",
      "metadata": {
        "id": "oEkQ8Nd8MlvB",
        "colab_type": "text"
      },
      "source": [
        "##Correlations in the data\n",
        "\n",
        "We have an idea that the variables: Sex, age, job, housing, saving account, checking ccount, credit amount, duration and purpose of the loan have an influence on whether the loaner is at bad or good risk, we will now try to visualize if there is a correlation between these parameters"
      ]
    },
    {
      "cell_type": "markdown",
      "metadata": {
        "id": "8_slg298sOST",
        "colab_type": "text"
      },
      "source": [
        "**Sex and Risk**"
      ]
    },
    {
      "cell_type": "code",
      "metadata": {
        "id": "A62l_s_aM1Yb",
        "colab_type": "code",
        "outputId": "bd051cd3-14be-45ee-e7b2-7beb0efc3f4c",
        "colab": {
          "base_uri": "https://localhost:8080/",
          "height": 135
        }
      },
      "source": [
        "pd.crosstab(Credit_data.Sex,Credit_data.Risk, normalize='index')"
      ],
      "execution_count": 0,
      "outputs": [
        {
          "output_type": "execute_result",
          "data": {
            "text/html": [
              "<div>\n",
              "<style scoped>\n",
              "    .dataframe tbody tr th:only-of-type {\n",
              "        vertical-align: middle;\n",
              "    }\n",
              "\n",
              "    .dataframe tbody tr th {\n",
              "        vertical-align: top;\n",
              "    }\n",
              "\n",
              "    .dataframe thead th {\n",
              "        text-align: right;\n",
              "    }\n",
              "</style>\n",
              "<table border=\"1\" class=\"dataframe\">\n",
              "  <thead>\n",
              "    <tr style=\"text-align: right;\">\n",
              "      <th>Risk</th>\n",
              "      <th>bad</th>\n",
              "      <th>good</th>\n",
              "    </tr>\n",
              "    <tr>\n",
              "      <th>Sex</th>\n",
              "      <th></th>\n",
              "      <th></th>\n",
              "    </tr>\n",
              "  </thead>\n",
              "  <tbody>\n",
              "    <tr>\n",
              "      <th>female</th>\n",
              "      <td>0.352</td>\n",
              "      <td>0.648</td>\n",
              "    </tr>\n",
              "    <tr>\n",
              "      <th>male</th>\n",
              "      <td>0.277</td>\n",
              "      <td>0.723</td>\n",
              "    </tr>\n",
              "  </tbody>\n",
              "</table>\n",
              "</div>"
            ],
            "text/plain": [
              "Risk     bad  good\n",
              "Sex               \n",
              "female 0.352 0.648\n",
              "male   0.277 0.723"
            ]
          },
          "metadata": {
            "tags": []
          },
          "execution_count": 67
        }
      ]
    },
    {
      "cell_type": "markdown",
      "metadata": {
        "id": "Tb_AAGJbM6Di",
        "colab_type": "text"
      },
      "source": [
        "In this table we see that more females than males are categoried as bad risk. "
      ]
    },
    {
      "cell_type": "markdown",
      "metadata": {
        "id": "tRXpx30A1lPv",
        "colab_type": "text"
      },
      "source": [
        "**Age and Risk**"
      ]
    },
    {
      "cell_type": "code",
      "metadata": {
        "id": "OR5Xm5wRM7I4",
        "colab_type": "code",
        "outputId": "1177fab7-ad36-4bd8-863a-c3f5a506cd3f",
        "colab": {
          "base_uri": "https://localhost:8080/",
          "height": 164
        }
      },
      "source": [
        "#First categorizing age in intervals\n",
        "interval = (18, 30, 60, 100)\n",
        "\n",
        "#Categorizing the observations in the categories 'young', 'Adult' and senior \n",
        "#makes it easier to spot an correlation when plotting the categories as bars\n",
        "Age_cat = ['Young', 'Adult', 'Senior']\n",
        "Credit_data[\"Age_cat\"] = pd.cut(Credit_data.Age, interval, labels=Age_cat)\n",
        "\n",
        "#Now tjecking for correlation \n",
        "pd.crosstab(Credit_data.Age_cat,Credit_data.Risk, normalize='index')"
      ],
      "execution_count": 0,
      "outputs": [
        {
          "output_type": "execute_result",
          "data": {
            "text/html": [
              "<div>\n",
              "<style scoped>\n",
              "    .dataframe tbody tr th:only-of-type {\n",
              "        vertical-align: middle;\n",
              "    }\n",
              "\n",
              "    .dataframe tbody tr th {\n",
              "        vertical-align: top;\n",
              "    }\n",
              "\n",
              "    .dataframe thead th {\n",
              "        text-align: right;\n",
              "    }\n",
              "</style>\n",
              "<table border=\"1\" class=\"dataframe\">\n",
              "  <thead>\n",
              "    <tr style=\"text-align: right;\">\n",
              "      <th>Risk</th>\n",
              "      <th>bad</th>\n",
              "      <th>good</th>\n",
              "    </tr>\n",
              "    <tr>\n",
              "      <th>Age_cat</th>\n",
              "      <th></th>\n",
              "      <th></th>\n",
              "    </tr>\n",
              "  </thead>\n",
              "  <tbody>\n",
              "    <tr>\n",
              "      <th>Young</th>\n",
              "      <td>0.360</td>\n",
              "      <td>0.640</td>\n",
              "    </tr>\n",
              "    <tr>\n",
              "      <th>Adult</th>\n",
              "      <td>0.261</td>\n",
              "      <td>0.739</td>\n",
              "    </tr>\n",
              "    <tr>\n",
              "      <th>Senior</th>\n",
              "      <td>0.222</td>\n",
              "      <td>0.778</td>\n",
              "    </tr>\n",
              "  </tbody>\n",
              "</table>\n",
              "</div>"
            ],
            "text/plain": [
              "Risk      bad  good\n",
              "Age_cat            \n",
              "Young   0.360 0.640\n",
              "Adult   0.261 0.739\n",
              "Senior  0.222 0.778"
            ]
          },
          "metadata": {
            "tags": []
          },
          "execution_count": 68
        }
      ]
    },
    {
      "cell_type": "markdown",
      "metadata": {
        "id": "FnEwqmQfNAD4",
        "colab_type": "text"
      },
      "source": [
        "In this table it looks like that the older you are, the probability of being a bad risk is smaller. But let's look if our categorization is valid"
      ]
    },
    {
      "cell_type": "code",
      "metadata": {
        "id": "eTR3sxcSNDGD",
        "colab_type": "code",
        "outputId": "3848f6db-ace1-4c10-c097-dfce8e4ed476",
        "colab": {
          "base_uri": "https://localhost:8080/",
          "height": 88
        }
      },
      "source": [
        "#counts proportions\n",
        "Credit_data.Age_cat.value_counts(normalize=True)"
      ],
      "execution_count": 0,
      "outputs": [
        {
          "output_type": "execute_result",
          "data": {
            "text/plain": [
              "Adult    0.544\n",
              "Young    0.411\n",
              "Senior   0.045\n",
              "Name: Age_cat, dtype: float64"
            ]
          },
          "metadata": {
            "tags": []
          },
          "execution_count": 69
        }
      ]
    },
    {
      "cell_type": "markdown",
      "metadata": {
        "id": "Yzz40_KbNGUu",
        "colab_type": "text"
      },
      "source": [
        "The categories Young and adult looks pretty valid but the senior categori is almost not represented, which means, that the results for this categori are not very reliable and should not be taking into account. "
      ]
    },
    {
      "cell_type": "markdown",
      "metadata": {
        "id": "9COGvnRS2xin",
        "colab_type": "text"
      },
      "source": [
        "**The purpose of the loan and risk**"
      ]
    },
    {
      "cell_type": "code",
      "metadata": {
        "id": "02HybI6sNPAS",
        "colab_type": "code",
        "outputId": "a7e7efbb-7e7b-4368-e010-1eb469bc2dec",
        "colab": {
          "base_uri": "https://localhost:8080/",
          "height": 452
        }
      },
      "source": [
        "risk_purpose = pd.crosstab(Credit_data.Purpose,Credit_data.Risk, normalize='index')\n",
        "print(risk_purpose)\n",
        "\n",
        "figure = risk_purpose.plot(kind = 'barh')"
      ],
      "execution_count": 0,
      "outputs": [
        {
          "output_type": "stream",
          "text": [
            "Risk                  bad  good\n",
            "Purpose                        \n",
            "business            0.351 0.649\n",
            "car                 0.315 0.685\n",
            "domestic appliances 0.333 0.667\n",
            "education           0.390 0.610\n",
            "furniture/equipment 0.320 0.680\n",
            "radio/TV            0.221 0.779\n",
            "repairs             0.364 0.636\n",
            "vacation/others     0.417 0.583\n"
          ],
          "name": "stdout"
        },
        {
          "output_type": "display_data",
          "data": {
            "image/png": "[encoded data removed]",
            "text/plain": [
              "<Figure size 432x288 with 1 Axes>"
            ]
          },
          "metadata": {
            "tags": []
          }
        }
      ]
    },
    {
      "cell_type": "markdown",
      "metadata": {
        "id": "vMmtiQ_BNRaK",
        "colab_type": "text"
      },
      "source": [
        "In the visualization it is visible that no matter the purpose of the loan, the propobility for being good risk is higher than bad risk. Because of this it does not look like that there is a signifinace correlation between the risk and purpose of the loan.\n",
        "\n",
        "top 3 of bad risks \n",
        "1. Vacation/Others\n",
        "2. education \n",
        "3. repairs/business \n",
        "\n",
        "top 3 of good risks \n",
        "1. Radio/TV\n",
        "2. furniture/equipment \n",
        "3. car "
      ]
    },
    {
      "cell_type": "markdown",
      "metadata": {
        "id": "2nZYz49PtBV4",
        "colab_type": "text"
      },
      "source": [
        "**Sex AND Purpose**\n",
        "\n",
        "We want to check if there is a coherence between sex and purpose. Because there are 70 % male and only 30 % female we will make a comparison between the variables seperately. First we compare female with purpose, which is visualized with True and men with purpose is visualised with False. "
      ]
    },
    {
      "cell_type": "code",
      "metadata": {
        "id": "6dbESSdgjhNz",
        "colab_type": "code",
        "outputId": "296d604b-9d6b-4201-ef82-cd7bbeac526a",
        "colab": {
          "base_uri": "https://localhost:8080/",
          "height": 363
        }
      },
      "source": [
        "#Sex and purpose\n",
        "\n",
        "male = Credit_data.Sex==True\n",
        "sex_purpose = pd.crosstab(male, Credit_data.Purpose, normalize='index')\n",
        "print(sex_purpose)\n",
        "\n",
        "figure = sex_purpose.plot(kind = 'barh')"
      ],
      "execution_count": 0,
      "outputs": [
        {
          "output_type": "stream",
          "text": [
            "Purpose  business   car  ...  repairs  vacation/others\n",
            "Sex                      ...                          \n",
            "False       0.097 0.337  ...    0.022            0.012\n",
            "\n",
            "[1 rows x 8 columns]\n"
          ],
          "name": "stdout"
        },
        {
          "output_type": "display_data",
          "data": {
            "image/png": "[encoded data removed]",
            "text/plain": [
              "<Figure size 432x288 with 1 Axes>"
            ]
          },
          "metadata": {
            "tags": []
          }
        }
      ]
    },
    {
      "cell_type": "markdown",
      "metadata": {
        "id": "a4z-NuTgta8h",
        "colab_type": "text"
      },
      "source": [
        "In the output we see that: \n",
        "\n",
        "- women are most likely to buy 'domestic appliances', 'education' and 'furniture'. \n",
        "\n",
        "whereas \n",
        "\n",
        "- men are most likely to buy 'car', business', repairs, vacations/others, radio/TV,\n",
        "\n",
        "But hr"
      ]
    },
    {
      "cell_type": "markdown",
      "metadata": {
        "id": "MwyHIljTrbxW",
        "colab_type": "text"
      },
      "source": [
        "**Risk and Job**"
      ]
    },
    {
      "cell_type": "code",
      "metadata": {
        "id": "8sUoFpacNUUM",
        "colab_type": "code",
        "outputId": "3b368502-50fa-4539-cef5-60d9aebd748b",
        "colab": {
          "base_uri": "https://localhost:8080/",
          "height": 380
        }
      },
      "source": [
        "risk_job = pd.crosstab(Credit_data.Job,Credit_data.Risk, normalize='index')\n",
        "print(risk_job)\n",
        "\n",
        "figure = risk_job.plot(kind = 'barh')"
      ],
      "execution_count": 0,
      "outputs": [
        {
          "output_type": "stream",
          "text": [
            "Risk   bad  good\n",
            "Job             \n",
            "0    0.318 0.682\n",
            "1    0.280 0.720\n",
            "2    0.295 0.705\n",
            "3    0.345 0.655\n"
          ],
          "name": "stdout"
        },
        {
          "output_type": "display_data",
          "data": {
            "image/png": "[encoded data removed]",
            "text/plain": [
              "<Figure size 432x288 with 1 Axes>"
            ]
          },
          "metadata": {
            "tags": []
          }
        }
      ]
    },
    {
      "cell_type": "markdown",
      "metadata": {
        "id": "0_XJOopNNX7N",
        "colab_type": "text"
      },
      "source": [
        "It does not really look like there is a significant correlation with the job situation. It seems like there is almost the same distribution between good and bad risk independent of the job situation"
      ]
    },
    {
      "cell_type": "markdown",
      "metadata": {
        "id": "bKi-WqN2r2jq",
        "colab_type": "text"
      },
      "source": [
        "**Risk and Housing**"
      ]
    },
    {
      "cell_type": "code",
      "metadata": {
        "id": "Hso1TGxrNafe",
        "colab_type": "code",
        "outputId": "464573d5-6f9a-4ded-aa57-9db63bf24abb",
        "colab": {
          "base_uri": "https://localhost:8080/",
          "height": 363
        }
      },
      "source": [
        "risk_housing = pd.crosstab(Credit_data.Housing,Credit_data.Risk, normalize='index')\n",
        "print(risk_housing)\n",
        "\n",
        "figure = risk_housing.plot(kind = 'barh')"
      ],
      "execution_count": 0,
      "outputs": [
        {
          "output_type": "stream",
          "text": [
            "Risk      bad  good\n",
            "Housing            \n",
            "free    0.407 0.593\n",
            "own     0.261 0.739\n",
            "rent    0.391 0.609\n"
          ],
          "name": "stdout"
        },
        {
          "output_type": "display_data",
          "data": {
            "image/png": "[encoded data removed]",
            "text/plain": [
              "<Figure size 432x288 with 1 Axes>"
            ]
          },
          "metadata": {
            "tags": []
          }
        }
      ]
    },
    {
      "cell_type": "markdown",
      "metadata": {
        "id": "Fd4bzCL7Nfrt",
        "colab_type": "text"
      },
      "source": [
        "It seems like house owners have a less likely probability of being bad risk than house renters and people living for free.\n",
        "\n",
        "This might be due to the fact that to buy a house, there are requirements to ones financial stability. Also there might be a financial safety for the bank in loaners who has a house.\n",
        "\n",
        "We will look more into a correlation between risk and finance. "
      ]
    },
    {
      "cell_type": "markdown",
      "metadata": {
        "id": "jsEB0S1utOdG",
        "colab_type": "text"
      },
      "source": [
        "**Risk and Finance**"
      ]
    },
    {
      "cell_type": "code",
      "metadata": {
        "id": "554lliKLNim_",
        "colab_type": "code",
        "outputId": "4343a378-0a97-45b0-d241-ee4f8efa9504",
        "colab": {
          "base_uri": "https://localhost:8080/",
          "height": 194
        }
      },
      "source": [
        "pd.crosstab(Credit_data.Saving_accounts, Credit_data.Risk, normalize='index')"
      ],
      "execution_count": 0,
      "outputs": [
        {
          "output_type": "execute_result",
          "data": {
            "text/html": [
              "<div>\n",
              "<style scoped>\n",
              "    .dataframe tbody tr th:only-of-type {\n",
              "        vertical-align: middle;\n",
              "    }\n",
              "\n",
              "    .dataframe tbody tr th {\n",
              "        vertical-align: top;\n",
              "    }\n",
              "\n",
              "    .dataframe thead th {\n",
              "        text-align: right;\n",
              "    }\n",
              "</style>\n",
              "<table border=\"1\" class=\"dataframe\">\n",
              "  <thead>\n",
              "    <tr style=\"text-align: right;\">\n",
              "      <th>Risk</th>\n",
              "      <th>bad</th>\n",
              "      <th>good</th>\n",
              "    </tr>\n",
              "    <tr>\n",
              "      <th>Saving_accounts</th>\n",
              "      <th></th>\n",
              "      <th></th>\n",
              "    </tr>\n",
              "  </thead>\n",
              "  <tbody>\n",
              "    <tr>\n",
              "      <th>little</th>\n",
              "      <td>0.360</td>\n",
              "      <td>0.640</td>\n",
              "    </tr>\n",
              "    <tr>\n",
              "      <th>moderate</th>\n",
              "      <td>0.330</td>\n",
              "      <td>0.670</td>\n",
              "    </tr>\n",
              "    <tr>\n",
              "      <th>quite rich</th>\n",
              "      <td>0.175</td>\n",
              "      <td>0.825</td>\n",
              "    </tr>\n",
              "    <tr>\n",
              "      <th>rich</th>\n",
              "      <td>0.125</td>\n",
              "      <td>0.875</td>\n",
              "    </tr>\n",
              "  </tbody>\n",
              "</table>\n",
              "</div>"
            ],
            "text/plain": [
              "Risk              bad  good\n",
              "Saving_accounts            \n",
              "little          0.360 0.640\n",
              "moderate        0.330 0.670\n",
              "quite rich      0.175 0.825\n",
              "rich            0.125 0.875"
            ]
          },
          "metadata": {
            "tags": []
          },
          "execution_count": 74
        }
      ]
    },
    {
      "cell_type": "markdown",
      "metadata": {
        "id": "fvUV3dv6t4NC",
        "colab_type": "text"
      },
      "source": [
        "In this table see, that loaners have a little or moderate savings accounts are more likely to be a bad risk.  "
      ]
    },
    {
      "cell_type": "code",
      "metadata": {
        "id": "CpiBMbCGNqfy",
        "colab_type": "code",
        "outputId": "ee7181f9-250d-4996-dbe4-18dba1f33f79",
        "colab": {
          "base_uri": "https://localhost:8080/",
          "height": 164
        }
      },
      "source": [
        "pd.crosstab(Credit_data.Checking_account, Credit_data.Risk, normalize='index')"
      ],
      "execution_count": 0,
      "outputs": [
        {
          "output_type": "execute_result",
          "data": {
            "text/html": [
              "<div>\n",
              "<style scoped>\n",
              "    .dataframe tbody tr th:only-of-type {\n",
              "        vertical-align: middle;\n",
              "    }\n",
              "\n",
              "    .dataframe tbody tr th {\n",
              "        vertical-align: top;\n",
              "    }\n",
              "\n",
              "    .dataframe thead th {\n",
              "        text-align: right;\n",
              "    }\n",
              "</style>\n",
              "<table border=\"1\" class=\"dataframe\">\n",
              "  <thead>\n",
              "    <tr style=\"text-align: right;\">\n",
              "      <th>Risk</th>\n",
              "      <th>bad</th>\n",
              "      <th>good</th>\n",
              "    </tr>\n",
              "    <tr>\n",
              "      <th>Checking_account</th>\n",
              "      <th></th>\n",
              "      <th></th>\n",
              "    </tr>\n",
              "  </thead>\n",
              "  <tbody>\n",
              "    <tr>\n",
              "      <th>little</th>\n",
              "      <td>0.493</td>\n",
              "      <td>0.507</td>\n",
              "    </tr>\n",
              "    <tr>\n",
              "      <th>moderate</th>\n",
              "      <td>0.390</td>\n",
              "      <td>0.610</td>\n",
              "    </tr>\n",
              "    <tr>\n",
              "      <th>rich</th>\n",
              "      <td>0.222</td>\n",
              "      <td>0.778</td>\n",
              "    </tr>\n",
              "  </tbody>\n",
              "</table>\n",
              "</div>"
            ],
            "text/plain": [
              "Risk               bad  good\n",
              "Checking_account            \n",
              "little           0.493 0.507\n",
              "moderate         0.390 0.610\n",
              "rich             0.222 0.778"
            ]
          },
          "metadata": {
            "tags": []
          },
          "execution_count": 75
        }
      ]
    },
    {
      "cell_type": "markdown",
      "metadata": {
        "id": "7UYqFOW_vTH-",
        "colab_type": "text"
      },
      "source": [
        "Here we again see that those with an little checking account are more likely to be classified as bad risk. "
      ]
    },
    {
      "cell_type": "markdown",
      "metadata": {
        "id": "RGsfHJ63wCIY",
        "colab_type": "text"
      },
      "source": [
        "**Risk and Credit amount**"
      ]
    },
    {
      "cell_type": "code",
      "metadata": {
        "id": "xeF_9wrWNyGQ",
        "colab_type": "code",
        "outputId": "1d11f389-3f7d-47f4-8132-e3cb217d90d1",
        "colab": {
          "base_uri": "https://localhost:8080/",
          "height": 194
        }
      },
      "source": [
        "#First categorizing age in intervals \n",
        "interval = (250, 1365.5, 2319.5, 3972.250, 18424)\n",
        "\n",
        "credit_amount_cat = ['little', 'moderate', 'above moderate', 'high']\n",
        "Credit_data[\"Credit_amount_cat\"] = pd.cut(Credit_data.Credit_amount, interval, labels=credit_amount_cat)\n",
        "\n",
        "Credit_data.head()\n"
      ],
      "execution_count": 0,
      "outputs": [
        {
          "output_type": "execute_result",
          "data": {
            "text/html": [
              "<div>\n",
              "<style scoped>\n",
              "    .dataframe tbody tr th:only-of-type {\n",
              "        vertical-align: middle;\n",
              "    }\n",
              "\n",
              "    .dataframe tbody tr th {\n",
              "        vertical-align: top;\n",
              "    }\n",
              "\n",
              "    .dataframe thead th {\n",
              "        text-align: right;\n",
              "    }\n",
              "</style>\n",
              "<table border=\"1\" class=\"dataframe\">\n",
              "  <thead>\n",
              "    <tr style=\"text-align: right;\">\n",
              "      <th></th>\n",
              "      <th>Unnamed: 0</th>\n",
              "      <th>Age</th>\n",
              "      <th>Sex</th>\n",
              "      <th>Job</th>\n",
              "      <th>Housing</th>\n",
              "      <th>Saving_accounts</th>\n",
              "      <th>Checking_account</th>\n",
              "      <th>Credit_amount</th>\n",
              "      <th>Duration</th>\n",
              "      <th>Purpose</th>\n",
              "      <th>Risk</th>\n",
              "      <th>Age_cat</th>\n",
              "      <th>Credit_amount_cat</th>\n",
              "    </tr>\n",
              "  </thead>\n",
              "  <tbody>\n",
              "    <tr>\n",
              "      <th>0</th>\n",
              "      <td>0</td>\n",
              "      <td>67</td>\n",
              "      <td>male</td>\n",
              "      <td>2</td>\n",
              "      <td>own</td>\n",
              "      <td>NaN</td>\n",
              "      <td>little</td>\n",
              "      <td>1169</td>\n",
              "      <td>6</td>\n",
              "      <td>radio/TV</td>\n",
              "      <td>good</td>\n",
              "      <td>Senior</td>\n",
              "      <td>little</td>\n",
              "    </tr>\n",
              "    <tr>\n",
              "      <th>1</th>\n",
              "      <td>1</td>\n",
              "      <td>22</td>\n",
              "      <td>female</td>\n",
              "      <td>2</td>\n",
              "      <td>own</td>\n",
              "      <td>little</td>\n",
              "      <td>moderate</td>\n",
              "      <td>5951</td>\n",
              "      <td>48</td>\n",
              "      <td>radio/TV</td>\n",
              "      <td>bad</td>\n",
              "      <td>Young</td>\n",
              "      <td>high</td>\n",
              "    </tr>\n",
              "    <tr>\n",
              "      <th>2</th>\n",
              "      <td>2</td>\n",
              "      <td>49</td>\n",
              "      <td>male</td>\n",
              "      <td>1</td>\n",
              "      <td>own</td>\n",
              "      <td>little</td>\n",
              "      <td>NaN</td>\n",
              "      <td>2096</td>\n",
              "      <td>12</td>\n",
              "      <td>education</td>\n",
              "      <td>good</td>\n",
              "      <td>Adult</td>\n",
              "      <td>moderate</td>\n",
              "    </tr>\n",
              "    <tr>\n",
              "      <th>3</th>\n",
              "      <td>3</td>\n",
              "      <td>45</td>\n",
              "      <td>male</td>\n",
              "      <td>2</td>\n",
              "      <td>free</td>\n",
              "      <td>little</td>\n",
              "      <td>little</td>\n",
              "      <td>7882</td>\n",
              "      <td>42</td>\n",
              "      <td>furniture/equipment</td>\n",
              "      <td>good</td>\n",
              "      <td>Adult</td>\n",
              "      <td>high</td>\n",
              "    </tr>\n",
              "    <tr>\n",
              "      <th>4</th>\n",
              "      <td>4</td>\n",
              "      <td>53</td>\n",
              "      <td>male</td>\n",
              "      <td>2</td>\n",
              "      <td>free</td>\n",
              "      <td>little</td>\n",
              "      <td>little</td>\n",
              "      <td>4870</td>\n",
              "      <td>24</td>\n",
              "      <td>car</td>\n",
              "      <td>bad</td>\n",
              "      <td>Adult</td>\n",
              "      <td>high</td>\n",
              "    </tr>\n",
              "  </tbody>\n",
              "</table>\n",
              "</div>"
            ],
            "text/plain": [
              "   Unnamed: 0  Age     Sex  ...  Risk Age_cat Credit_amount_cat\n",
              "0           0   67    male  ...  good  Senior            little\n",
              "1           1   22  female  ...   bad   Young              high\n",
              "2           2   49    male  ...  good   Adult          moderate\n",
              "3           3   45    male  ...  good   Adult              high\n",
              "4           4   53    male  ...   bad   Adult              high\n",
              "\n",
              "[5 rows x 13 columns]"
            ]
          },
          "metadata": {
            "tags": []
          },
          "execution_count": 76
        }
      ]
    },
    {
      "cell_type": "code",
      "metadata": {
        "id": "yx5Yrl9nScud",
        "colab_type": "code",
        "outputId": "26ad19a6-a2a0-4b21-bc4e-687128654c19",
        "colab": {
          "base_uri": "https://localhost:8080/",
          "height": 380
        }
      },
      "source": [
        "\n",
        "risk_credit_amount = pd.crosstab(Credit_data.Credit_amount_cat,Credit_data.Risk, normalize='index')\n",
        "print(risk_credit_amount)\n",
        "\n",
        "figure = risk_credit_amount.plot(kind = 'barh')"
      ],
      "execution_count": 0,
      "outputs": [
        {
          "output_type": "stream",
          "text": [
            "Risk                bad  good\n",
            "Credit_amount_cat            \n",
            "little            0.309 0.691\n",
            "moderate          0.248 0.752\n",
            "above moderate    0.224 0.776\n",
            "high              0.420 0.580\n"
          ],
          "name": "stdout"
        },
        {
          "output_type": "display_data",
          "data": {
            "image/png": "[encoded data removed]",
            "text/plain": [
              "<Figure size 432x288 with 1 Axes>"
            ]
          },
          "metadata": {
            "tags": []
          }
        }
      ]
    },
    {
      "cell_type": "markdown",
      "metadata": {
        "id": "zqIrl-O7wb2K",
        "colab_type": "text"
      },
      "source": [
        "In this table we can determine, that the higher the credit amount the more likely one is to be a bad risk. "
      ]
    },
    {
      "cell_type": "markdown",
      "metadata": {
        "id": "ama0lH7fwx1s",
        "colab_type": "text"
      },
      "source": [
        "**Duration**"
      ]
    },
    {
      "cell_type": "code",
      "metadata": {
        "id": "lCvP2ZvtTNQN",
        "colab_type": "code",
        "outputId": "03bec0c6-d99e-4a19-8111-ab60669278af",
        "colab": {
          "base_uri": "https://localhost:8080/",
          "height": 194
        }
      },
      "source": [
        "#First categorizing duration into intervals \n",
        "interval = (4, 12, 18, 24, 72)\n",
        "\n",
        "duration_cat = ['1 year', '18 mounts', '2 years', 'above 2 years']\n",
        "Credit_data[\"Duration_cat\"] = pd.cut(Credit_data.Duration, interval, labels=duration_cat)\n",
        "\n",
        "Credit_data.head()"
      ],
      "execution_count": 0,
      "outputs": [
        {
          "output_type": "execute_result",
          "data": {
            "text/html": [
              "<div>\n",
              "<style scoped>\n",
              "    .dataframe tbody tr th:only-of-type {\n",
              "        vertical-align: middle;\n",
              "    }\n",
              "\n",
              "    .dataframe tbody tr th {\n",
              "        vertical-align: top;\n",
              "    }\n",
              "\n",
              "    .dataframe thead th {\n",
              "        text-align: right;\n",
              "    }\n",
              "</style>\n",
              "<table border=\"1\" class=\"dataframe\">\n",
              "  <thead>\n",
              "    <tr style=\"text-align: right;\">\n",
              "      <th></th>\n",
              "      <th>Unnamed: 0</th>\n",
              "      <th>Age</th>\n",
              "      <th>Sex</th>\n",
              "      <th>Job</th>\n",
              "      <th>Housing</th>\n",
              "      <th>Saving_accounts</th>\n",
              "      <th>Checking_account</th>\n",
              "      <th>Credit_amount</th>\n",
              "      <th>Duration</th>\n",
              "      <th>Purpose</th>\n",
              "      <th>Risk</th>\n",
              "      <th>Age_cat</th>\n",
              "      <th>Credit_amount_cat</th>\n",
              "      <th>Duration_cat</th>\n",
              "    </tr>\n",
              "  </thead>\n",
              "  <tbody>\n",
              "    <tr>\n",
              "      <th>0</th>\n",
              "      <td>0</td>\n",
              "      <td>67</td>\n",
              "      <td>male</td>\n",
              "      <td>2</td>\n",
              "      <td>own</td>\n",
              "      <td>NaN</td>\n",
              "      <td>little</td>\n",
              "      <td>1169</td>\n",
              "      <td>6</td>\n",
              "      <td>radio/TV</td>\n",
              "      <td>good</td>\n",
              "      <td>Senior</td>\n",
              "      <td>little</td>\n",
              "      <td>1 year</td>\n",
              "    </tr>\n",
              "    <tr>\n",
              "      <th>1</th>\n",
              "      <td>1</td>\n",
              "      <td>22</td>\n",
              "      <td>female</td>\n",
              "      <td>2</td>\n",
              "      <td>own</td>\n",
              "      <td>little</td>\n",
              "      <td>moderate</td>\n",
              "      <td>5951</td>\n",
              "      <td>48</td>\n",
              "      <td>radio/TV</td>\n",
              "      <td>bad</td>\n",
              "      <td>Young</td>\n",
              "      <td>high</td>\n",
              "      <td>above 2 years</td>\n",
              "    </tr>\n",
              "    <tr>\n",
              "      <th>2</th>\n",
              "      <td>2</td>\n",
              "      <td>49</td>\n",
              "      <td>male</td>\n",
              "      <td>1</td>\n",
              "      <td>own</td>\n",
              "      <td>little</td>\n",
              "      <td>NaN</td>\n",
              "      <td>2096</td>\n",
              "      <td>12</td>\n",
              "      <td>education</td>\n",
              "      <td>good</td>\n",
              "      <td>Adult</td>\n",
              "      <td>moderate</td>\n",
              "      <td>1 year</td>\n",
              "    </tr>\n",
              "    <tr>\n",
              "      <th>3</th>\n",
              "      <td>3</td>\n",
              "      <td>45</td>\n",
              "      <td>male</td>\n",
              "      <td>2</td>\n",
              "      <td>free</td>\n",
              "      <td>little</td>\n",
              "      <td>little</td>\n",
              "      <td>7882</td>\n",
              "      <td>42</td>\n",
              "      <td>furniture/equipment</td>\n",
              "      <td>good</td>\n",
              "      <td>Adult</td>\n",
              "      <td>high</td>\n",
              "      <td>above 2 years</td>\n",
              "    </tr>\n",
              "    <tr>\n",
              "      <th>4</th>\n",
              "      <td>4</td>\n",
              "      <td>53</td>\n",
              "      <td>male</td>\n",
              "      <td>2</td>\n",
              "      <td>free</td>\n",
              "      <td>little</td>\n",
              "      <td>little</td>\n",
              "      <td>4870</td>\n",
              "      <td>24</td>\n",
              "      <td>car</td>\n",
              "      <td>bad</td>\n",
              "      <td>Adult</td>\n",
              "      <td>high</td>\n",
              "      <td>2 years</td>\n",
              "    </tr>\n",
              "  </tbody>\n",
              "</table>\n",
              "</div>"
            ],
            "text/plain": [
              "   Unnamed: 0  Age     Sex  Job  ...  Risk Age_cat Credit_amount_cat   Duration_cat\n",
              "0           0   67    male    2  ...  good  Senior            little         1 year\n",
              "1           1   22  female    2  ...   bad   Young              high  above 2 years\n",
              "2           2   49    male    1  ...  good   Adult          moderate         1 year\n",
              "3           3   45    male    2  ...  good   Adult              high  above 2 years\n",
              "4           4   53    male    2  ...   bad   Adult              high        2 years\n",
              "\n",
              "[5 rows x 14 columns]"
            ]
          },
          "metadata": {
            "tags": []
          },
          "execution_count": 78
        }
      ]
    },
    {
      "cell_type": "code",
      "metadata": {
        "id": "J19Ikfk_ZWWU",
        "colab_type": "code",
        "outputId": "93a41de6-fbe7-4dde-9af2-cf19123c6c1b",
        "colab": {
          "base_uri": "https://localhost:8080/",
          "height": 355
        }
      },
      "source": [
        "Credit_data.info()"
      ],
      "execution_count": 0,
      "outputs": [
        {
          "output_type": "stream",
          "text": [
            "<class 'pandas.core.frame.DataFrame'>\n",
            "RangeIndex: 1000 entries, 0 to 999\n",
            "Data columns (total 14 columns):\n",
            "Unnamed: 0           1000 non-null int64\n",
            "Age                  1000 non-null int64\n",
            "Sex                  1000 non-null object\n",
            "Job                  1000 non-null int64\n",
            "Housing              1000 non-null object\n",
            "Saving_accounts      817 non-null object\n",
            "Checking_account     606 non-null object\n",
            "Credit_amount        1000 non-null int64\n",
            "Duration             1000 non-null int64\n",
            "Purpose              1000 non-null object\n",
            "Risk                 1000 non-null object\n",
            "Age_cat              1000 non-null category\n",
            "Credit_amount_cat    999 non-null category\n",
            "Duration_cat         994 non-null category\n",
            "dtypes: category(3), int64(5), object(6)\n",
            "memory usage: 89.4+ KB\n"
          ],
          "name": "stdout"
        }
      ]
    },
    {
      "cell_type": "code",
      "metadata": {
        "id": "91UmIwXBaPkJ",
        "colab_type": "code",
        "colab": {}
      },
      "source": [
        ""
      ],
      "execution_count": 0,
      "outputs": []
    },
    {
      "cell_type": "markdown",
      "metadata": {
        "id": "4MWIjHYNWGLA",
        "colab_type": "text"
      },
      "source": [
        "We categorize this variable in intervals to get a manageable overview of the data. However, we will not be using this categorized variable later in the project. It is only for this EDA."
      ]
    },
    {
      "cell_type": "code",
      "metadata": {
        "id": "0GjUuHllVnUm",
        "colab_type": "code",
        "outputId": "29b206ad-18ee-4701-82d8-e21ddf29eaa0",
        "colab": {
          "base_uri": "https://localhost:8080/",
          "height": 380
        }
      },
      "source": [
        "risk_duration = pd.crosstab(Credit_data.Duration_cat,Credit_data.Risk, normalize='index')\n",
        "print(risk_duration)\n",
        "\n",
        "figure = risk_duration.plot(kind = 'barh')"
      ],
      "execution_count": 0,
      "outputs": [
        {
          "output_type": "stream",
          "text": [
            "Risk            bad  good\n",
            "Duration_cat             \n",
            "1 year        0.215 0.785\n",
            "18 mounts     0.299 0.701\n",
            "2 years       0.295 0.705\n",
            "above 2 years 0.443 0.557\n"
          ],
          "name": "stdout"
        },
        {
          "output_type": "display_data",
          "data": {
            "image/png": "[encoded data removed]",
            "text/plain": [
              "<Figure size 432x288 with 1 Axes>"
            ]
          },
          "metadata": {
            "tags": []
          }
        }
      ]
    },
    {
      "cell_type": "markdown",
      "metadata": {
        "id": "co9nxYpxyFmq",
        "colab_type": "text"
      },
      "source": [
        "In this visualization it may be determined that the higher the duration the higher is the probability of being af bad risk. "
      ]
    },
    {
      "cell_type": "markdown",
      "metadata": {
        "id": "e2P3Hv7QxRXy",
        "colab_type": "text"
      },
      "source": [
        "#Conclusion to EDA \n",
        "  \n",
        "Overall we found some correlations between all the variables in the dataset. \n",
        "\n",
        "But we did not find any magnificent correlations between job and risk, therefore the variable 'Job' will not be a part of the further analysis.   \n",
        "\n",
        "The variables that we find most interesting are Sex,Age Saving- and checking account, because these factors have a significant influence on the risk, therefore we also have an idea that these are important in predicting the risk of new loaners. "
      ]
    },
    {
      "cell_type": "markdown",
      "metadata": {
        "id": "wmHiqD3Oxm4r",
        "colab_type": "text"
      },
      "source": [
        "In the output we see that there are some missing data - strings - space between columns name e.g. Saving accounts, Checking account and Credit amount. "
      ]
    },
    {
      "cell_type": "markdown",
      "metadata": {
        "id": "sX33moaaXBH1",
        "colab_type": "text"
      },
      "source": [
        "##Preprocessing "
      ]
    },
    {
      "cell_type": "markdown",
      "metadata": {
        "id": "3XXEj1ODw7mT",
        "colab_type": "text"
      },
      "source": [
        "We will try to convert the objects/strings to floats, and 'fix' the problem with the missing values. "
      ]
    },
    {
      "cell_type": "markdown",
      "metadata": {
        "id": "hA9l88PBxOYW",
        "colab_type": "text"
      },
      "source": [
        "Because there are missing values in Saving_accounts and Checking_account, we need to either remove the colums or fill out the missing data. The reason for filling or removing missing data, is that we can work with them later on and make analysis. \n",
        "\n",
        "- We dont want to remove any colums because then we will lose too much information/data. Instead we want to fill our data by using the function .fillna - fillna(): Return a copy of the data with missing values filled or imputed\n",
        "\n",
        "- We are also going to change the string into floats by assigning them a number by the function .map({}) and .astype(float)"
      ]
    },
    {
      "cell_type": "code",
      "metadata": {
        "id": "AZcmCPo8J-iF",
        "colab_type": "code",
        "outputId": "b95b5f1e-e7b8-4e32-ad28-ca183011fe67",
        "colab": {
          "base_uri": "https://localhost:8080/",
          "height": 355
        }
      },
      "source": [
        "Credit_data.info()"
      ],
      "execution_count": 0,
      "outputs": [
        {
          "output_type": "stream",
          "text": [
            "<class 'pandas.core.frame.DataFrame'>\n",
            "RangeIndex: 1000 entries, 0 to 999\n",
            "Data columns (total 14 columns):\n",
            "Unnamed: 0           1000 non-null int64\n",
            "Age                  1000 non-null int64\n",
            "Sex                  1000 non-null object\n",
            "Job                  1000 non-null int64\n",
            "Housing              1000 non-null object\n",
            "Saving_accounts      817 non-null object\n",
            "Checking_account     606 non-null object\n",
            "Credit_amount        1000 non-null int64\n",
            "Duration             1000 non-null int64\n",
            "Purpose              1000 non-null object\n",
            "Risk                 1000 non-null object\n",
            "Age_cat              1000 non-null category\n",
            "Credit_amount_cat    999 non-null category\n",
            "Duration_cat         994 non-null category\n",
            "dtypes: category(3), int64(5), object(6)\n",
            "memory usage: 89.4+ KB\n"
          ],
          "name": "stdout"
        }
      ]
    },
    {
      "cell_type": "code",
      "metadata": {
        "id": "Es6RRTDEJX52",
        "colab_type": "code",
        "colab": {}
      },
      "source": [
        "Credit_data['Saving_accounts'] = Credit_data['Saving_accounts'].map({\"little\":0,\"moderate\":1,\"quite rich\":2 ,\"rich\":3 }).astype(float);\n",
        "Credit_data['Saving_accounts'] = Credit_data['Saving_accounts'].fillna(Credit_data['Saving_accounts'].dropna().mean())#filling missing values with mean \n",
        "\n",
        "Credit_data['Checking_account'] = Credit_data['Checking_account'].map({\"little\":0,\"moderate\":1,\"rich\":2 }).astype(float);\n",
        "Credit_data['Checking_account'] = Credit_data['Checking_account'].fillna(Credit_data['Checking_account'].dropna().mean())#filling missing values with mean "
      ],
      "execution_count": 0,
      "outputs": []
    },
    {
      "cell_type": "code",
      "metadata": {
        "id": "NgVofaeLxRQh",
        "colab_type": "code",
        "outputId": "b32d12b5-8cb5-4a04-f37a-def3df3197e9",
        "colab": {
          "base_uri": "https://localhost:8080/",
          "height": 355
        }
      },
      "source": [
        "Credit_data['Sex'] = Credit_data['Sex'].map({\"male\":0,\"female\":1}).astype(float);\n",
        "\n",
        "Credit_data['Risk'] = Credit_data['Risk'].map({\"good\":0,\"bad\":1}).astype(float);\n",
        "\n",
        "Credit_data['Housing'] = Credit_data['Housing'].map({\"own\":0,\"free\":1,\"rent\":2}).astype(float);\n",
        "\n",
        "Credit_data['Purpose'] = Credit_data['Purpose'].map({'radio/TV':0, 'education':1, 'furniture/equipment':2, 'car':3, 'business':4,\n",
        "       'domestic appliances':5, 'repairs':6, 'vacation/others':7}).astype(float);\n",
        "\n",
        "\n",
        "Credit_data.info()"
      ],
      "execution_count": 0,
      "outputs": [
        {
          "output_type": "stream",
          "text": [
            "<class 'pandas.core.frame.DataFrame'>\n",
            "RangeIndex: 1000 entries, 0 to 999\n",
            "Data columns (total 14 columns):\n",
            "Unnamed: 0           1000 non-null int64\n",
            "Age                  1000 non-null int64\n",
            "Sex                  1000 non-null float64\n",
            "Job                  1000 non-null int64\n",
            "Housing              1000 non-null float64\n",
            "Saving_accounts      1000 non-null float64\n",
            "Checking_account     1000 non-null float64\n",
            "Credit_amount        1000 non-null int64\n",
            "Duration             1000 non-null int64\n",
            "Purpose              1000 non-null float64\n",
            "Risk                 1000 non-null float64\n",
            "Age_cat              1000 non-null category\n",
            "Credit_amount_cat    999 non-null category\n",
            "Duration_cat         994 non-null category\n",
            "dtypes: category(3), float64(6), int64(5)\n",
            "memory usage: 89.4 KB\n"
          ],
          "name": "stdout"
        }
      ]
    },
    {
      "cell_type": "markdown",
      "metadata": {
        "id": "N8DLoZsZY2xx",
        "colab_type": "text"
      },
      "source": [
        "##Unsupervised ML"
      ]
    },
    {
      "cell_type": "markdown",
      "metadata": {
        "id": "pJPEjLHqlTTU",
        "colab_type": "text"
      },
      "source": [
        "<p>In this section we are working with Unsupervised Machine Learning. Which means pattern recognition and data exploration, by performing the tasks below:\n",
        "  \n",
        "  \n",
        "\n",
        "*   **Dimensionality Reduction** - Finding patterns in the features of the data \n",
        "*   **Clustering** - Finding subgroups within larger groups \n",
        "\n",
        "For the dimensionality reduction, we're going to perform a PCA. For Clustering we are using KMeans</p>"
      ]
    },
    {
      "cell_type": "markdown",
      "metadata": {
        "id": "F5Uh6KHRzZIJ",
        "colab_type": "text"
      },
      "source": [
        "<p>Prior to performing the PCA, we need to scale the data. This we do, by importing the StandardScaler () function from the library sklearn.  "
      ]
    },
    {
      "cell_type": "code",
      "metadata": {
        "id": "ElfoLiERjEnY",
        "colab_type": "code",
        "outputId": "eddcebd3-5a15-42af-be92-07648f34efb2",
        "colab": {
          "base_uri": "https://localhost:8080/",
          "height": 248
        }
      },
      "source": [
        "#Let's standard-scale our data\n",
        "from sklearn.preprocessing import StandardScaler\n",
        "scaler = StandardScaler()\n",
        "\n",
        "features = ['Age', 'Sex', 'Saving_accounts', 'Housing', 'Purpose', 'Checking_account', 'Duration', 'Credit_amount']\n",
        "\n",
        "x = Credit_data.loc[:, features]\n",
        "y = Credit_data.loc[:, 'Risk']\n",
        "\n",
        "x.info()"
      ],
      "execution_count": 0,
      "outputs": [
        {
          "output_type": "stream",
          "text": [
            "<class 'pandas.core.frame.DataFrame'>\n",
            "RangeIndex: 1000 entries, 0 to 999\n",
            "Data columns (total 8 columns):\n",
            "Age                 1000 non-null int64\n",
            "Sex                 1000 non-null float64\n",
            "Saving_accounts     1000 non-null float64\n",
            "Housing             1000 non-null float64\n",
            "Purpose             1000 non-null float64\n",
            "Checking_account    1000 non-null float64\n",
            "Duration            1000 non-null int64\n",
            "Credit_amount       1000 non-null int64\n",
            "dtypes: float64(5), int64(3)\n",
            "memory usage: 62.6 KB\n"
          ],
          "name": "stdout"
        }
      ]
    },
    {
      "cell_type": "markdown",
      "metadata": {
        "id": "fWfGeMHeKz_A",
        "colab_type": "text"
      },
      "source": [
        "###PCA "
      ]
    },
    {
      "cell_type": "code",
      "metadata": {
        "id": "nBBP-W8AC4kH",
        "colab_type": "code",
        "outputId": "0147dddc-f780-4de2-cf89-336fbe34cb72",
        "colab": {
          "base_uri": "https://localhost:8080/",
          "height": 35
        }
      },
      "source": [
        "data_scaled = StandardScaler().fit_transform(x)\n",
        "data_scaled.shape"
      ],
      "execution_count": 0,
      "outputs": [
        {
          "output_type": "execute_result",
          "data": {
            "text/plain": [
              "(1000, 8)"
            ]
          },
          "metadata": {
            "tags": []
          },
          "execution_count": 85
        }
      ]
    },
    {
      "cell_type": "markdown",
      "metadata": {
        "id": "c1nNrPFU5EHy",
        "colab_type": "text"
      },
      "source": [
        "<p>After scaling the data, we can perform the PCA analysis. Principal Component Analysis summarizes the information, by reducing dimensionality of the data without losing too much important information. As we se above, the shape of data_scaled tells us that there are 1000 rows and 8 dimensions. Here we want to reduce the number of dimensions, by using the PCA() function from the sklearn library. </p>"
      ]
    },
    {
      "cell_type": "code",
      "metadata": {
        "id": "n1onGPaJBXLZ",
        "colab_type": "code",
        "outputId": "f362af63-cc2e-4209-ef7a-39c33779bf96",
        "colab": {
          "base_uri": "https://localhost:8080/",
          "height": 35
        }
      },
      "source": [
        "from sklearn.decomposition import PCA\n",
        "pca = PCA(n_components=6) \n",
        "\n",
        "# Fit and transform the data\n",
        "data_reduced = pca.fit_transform(data_scaled)\n",
        "data_reduced.shape"
      ],
      "execution_count": 0,
      "outputs": [
        {
          "output_type": "execute_result",
          "data": {
            "text/plain": [
              "(1000, 6)"
            ]
          },
          "metadata": {
            "tags": []
          },
          "execution_count": 86
        }
      ]
    },
    {
      "cell_type": "markdown",
      "metadata": {
        "id": "sD2A2pAi9Dlw",
        "colab_type": "text"
      },
      "source": [
        "<p>As it looks, we succesfully reduced the number of dimensions from 14 to 6 dimensions. Now we are going to have a look at the Explained Variance Ratio, to tell us how much data is saved and how much is lost. </p>"
      ]
    },
    {
      "cell_type": "code",
      "metadata": {
        "id": "9ebX0cGzIGYf",
        "colab_type": "code",
        "colab": {}
      },
      "source": [
        "import matplotlib.pyplot as plt\n",
        "import seaborn as sns \n",
        "sns.set_style(\"darkgrid\")"
      ],
      "execution_count": 0,
      "outputs": []
    },
    {
      "cell_type": "code",
      "metadata": {
        "id": "t6-pnEfgIyTt",
        "colab_type": "code",
        "outputId": "2361947e-c7de-4d94-82bf-77be5bff053b",
        "colab": {
          "base_uri": "https://localhost:8080/",
          "height": 524
        }
      },
      "source": [
        "plot_data = pd.DataFrame({'evr': pca.explained_variance_ratio_, 'cumsum_evr': np.cumsum(pca.explained_variance_ratio_)}).stack()\n",
        "sns.set(rc={'figure.figsize':(11.7,8.27)})\n",
        "sns.lineplot(y = plot_data.values, x = plot_data.index.get_level_values(0), hue=plot_data.index.get_level_values(1))"
      ],
      "execution_count": 0,
      "outputs": [
        {
          "output_type": "execute_result",
          "data": {
            "text/plain": [
              "<matplotlib.axes._subplots.AxesSubplot at 0x7faee2b4e710>"
            ]
          },
          "metadata": {
            "tags": []
          },
          "execution_count": 88
        },
        {
          "output_type": "display_data",
          "data": {
            "image/png": "[encoded data removed]",
            "text/plain": [
              "<Figure size 842.4x595.44 with 1 Axes>"
            ]
          },
          "metadata": {
            "tags": []
          }
        }
      ]
    },
    {
      "cell_type": "code",
      "metadata": {
        "id": "T8HSegIG-DqI",
        "colab_type": "code",
        "outputId": "d9515e63-3f9a-49f8-bbe1-847b0a29fa49",
        "colab": {
          "base_uri": "https://localhost:8080/",
          "height": 35
        }
      },
      "source": [
        "evr_sum = (pca.explained_variance_ratio_ * 100).sum()\n",
        "evr_sum"
      ],
      "execution_count": 0,
      "outputs": [
        {
          "output_type": "execute_result",
          "data": {
            "text/plain": [
              "85.78341815507252"
            ]
          },
          "metadata": {
            "tags": []
          },
          "execution_count": 89
        }
      ]
    },
    {
      "cell_type": "markdown",
      "metadata": {
        "id": "3KCf__7s-qF7",
        "colab_type": "text"
      },
      "source": [
        "<p>After reducing the amount of components to eight and visualizing it above, we can\n",
        "see the that with six components we have only reduced the amount the original knowledge\n",
        "with about 15 percent. This is verified with the additional calculation, which states the\n",
        "cumulative explained variance ratio to be 85,7 percent. If we reduced the number of dimensions more, the EVR would be reduced too, which indicates that too much important information may be left out.  </p>\n"
      ]
    },
    {
      "cell_type": "markdown",
      "metadata": {
        "id": "NYbWJ_yNUdqx",
        "colab_type": "text"
      },
      "source": [
        "###Alternative Dimensionality Reduction techniques \n",
        "<p>The PCA is ideal for large quantitative datasets, where our dataset contain both qualitative and quantitative values, wherefore the PCA technique actually might not be ideal. Alternatively, the Dimensionality Reduction technique UMAP could be performed instead. UMAP (Uniform Manifold Approximation and Projection) is a more practical scalable algorithm, which applies to real world data and preserves more of the global structure. Wherefore, it is more viable as a general purpose dimension reduction technique for machine learning. \n",
        "\n",
        "However, this was realized late in the process where the data has been cleaned, processed and adapted to fit the PCA technique. Attempts to change from PCA to UMAP resulted in collateral errors further down in the code, wherefore we decided to keep the PCA technique. </p>\n"
      ]
    },
    {
      "cell_type": "markdown",
      "metadata": {
        "id": "qZ7Qrvc9LEnE",
        "colab_type": "text"
      },
      "source": [
        "###Cluster Analysis with KMeans \n",
        "<p> Now we want to subgroup our data in clusters. We are doing this, using the clustering algorithm KMeans which searches for a pre-determined number of clusters in our dataset. \n",
        "\n",
        "To determine how many clusters that is ideal, we use the Elbow Method. The Elbow method works by fitting the model with a range of values for K. Though, the problem with this method is that it does not work well, if the data is not very clustered. </p> "
      ]
    },
    {
      "cell_type": "code",
      "metadata": {
        "id": "qAiMYLb2aRpc",
        "colab_type": "code",
        "outputId": "1178193a-f7f9-4fbc-e3aa-28ccbdbc1247",
        "colab": {
          "base_uri": "https://localhost:8080/",
          "height": 524
        }
      },
      "source": [
        " from sklearn.cluster import KMeans \n",
        "inertia = []\n",
        "for i in range(1,9):\n",
        "  k_means = KMeans(n_clusters=i)\n",
        "  inertia.append(k_means.fit(data_scaled).inertia_)\n",
        "\n",
        "sns.lineplot(y = inertia, x = range(1,9))"
      ],
      "execution_count": 0,
      "outputs": [
        {
          "output_type": "execute_result",
          "data": {
            "text/plain": [
              "<matplotlib.axes._subplots.AxesSubplot at 0x7faee2b3a278>"
            ]
          },
          "metadata": {
            "tags": []
          },
          "execution_count": 90
        },
        {
          "output_type": "display_data",
          "data": {
            "image/png": "[encoded data removed]",
            "text/plain": [
              "<Figure size 842.4x595.44 with 1 Axes>"
            ]
          },
          "metadata": {
            "tags": []
          }
        }
      ]
    },
    {
      "cell_type": "markdown",
      "metadata": {
        "id": "NLHCpIWZCzP2",
        "colab_type": "text"
      },
      "source": [
        "<p> As we see in our visualization, a clear ‘elbow’ is not really visible. But we do see a bend between three and four, indicating that would be an optimal amount of clusters. Therefore we choose three as our predetermined number of clusters. </p>"
      ]
    },
    {
      "cell_type": "code",
      "metadata": {
        "id": "evrO-5VhaWfD",
        "colab_type": "code",
        "outputId": "5116af4d-0bb6-4b94-f5ea-8cc0334ee021",
        "colab": {
          "base_uri": "https://localhost:8080/",
          "height": 709
        }
      },
      "source": [
        "# Imorting KMeans to make the clusters.  \n",
        "from sklearn.cluster import KMeans \n",
        "\n",
        "# creating the clusters and transforming them \n",
        "clusterer = KMeans(n_clusters=3)\n",
        "clusterer.fit(data_scaled)\n",
        "\n",
        "#Plotting the clusters  \n",
        "plt.figure(figsize=(12,12))\n",
        "g = sns.scatterplot(data_reduced[:,0],data_reduced[:,1],hue=clusterer.labels_,\n",
        "               legend='full', palette='ch:2.5,-.2,dark=.2')\n",
        "\n",
        "legend = g.get_legend()"
      ],
      "execution_count": 0,
      "outputs": [
        {
          "output_type": "display_data",
          "data": {
            "image/png": "[encoded data removed]",
            "text/plain": [
              "<Figure size 864x864 with 1 Axes>"
            ]
          },
          "metadata": {
            "tags": []
          }
        }
      ]
    },
    {
      "cell_type": "markdown",
      "metadata": {
        "id": "GzttluAqYRgP",
        "colab_type": "text"
      },
      "source": [
        "###Cluster data\n",
        "<p>In the visualization we see three clusters, where the dark colored is the most densed and clustered and the two others are more dispersed.  \n",
        "\n",
        "To make something out of these cluster, we want to turn the cluster into readable data by using the **.labels_** method. But first we choose the features of the columns we want to be shown, using **[]** to make an array of the chosen columns and storing them in the variable **vars_descr**\n",
        "\n",
        "When printing the information of the clusters, we use a **.groupby()** method to split the clusters from one another and the **mean()** function to show the average values for each of the three clusters. </p>"
      ]
    },
    {
      "cell_type": "code",
      "metadata": {
        "id": "AbLarDyWWipQ",
        "colab_type": "code",
        "outputId": "99c68143-018b-4456-e579-2debe2379495",
        "colab": {
          "base_uri": "https://localhost:8080/",
          "height": 271
        }
      },
      "source": [
        "#Here we choose the features we want shown\n",
        "vars_descr = [\"Age\", \"Sex\",\"Housing\", \"Saving_accounts\", \"Checking_account\", \"Credit_amount\", \"Duration\", \"Purpose\", \"Risk\", \"Age_cat\"]\n",
        "descr = Credit_data[vars_descr]\n",
        "\n",
        "#Here we write the clusters into readable data\n",
        "descr['cluster'] = clusterer.labels_\n",
        "Credit_data['cluster'] = clusterer.labels_\n",
        "\n",
        "#Here we group the clusters and print their mean\n",
        "descr.groupby('cluster').mean()"
      ],
      "execution_count": 0,
      "outputs": [
        {
          "output_type": "stream",
          "text": [
            "/usr/local/lib/python3.6/dist-packages/ipykernel_launcher.py:5: SettingWithCopyWarning: \n",
            "A value is trying to be set on a copy of a slice from a DataFrame.\n",
            "Try using .loc[row_indexer,col_indexer] = value instead\n",
            "\n",
            "See the caveats in the documentation: http://pandas.pydata.org/pandas-docs/stable/indexing.html#indexing-view-versus-copy\n",
            "  \"\"\"\n"
          ],
          "name": "stderr"
        },
        {
          "output_type": "execute_result",
          "data": {
            "text/html": [
              "<div>\n",
              "<style scoped>\n",
              "    .dataframe tbody tr th:only-of-type {\n",
              "        vertical-align: middle;\n",
              "    }\n",
              "\n",
              "    .dataframe tbody tr th {\n",
              "        vertical-align: top;\n",
              "    }\n",
              "\n",
              "    .dataframe thead th {\n",
              "        text-align: right;\n",
              "    }\n",
              "</style>\n",
              "<table border=\"1\" class=\"dataframe\">\n",
              "  <thead>\n",
              "    <tr style=\"text-align: right;\">\n",
              "      <th></th>\n",
              "      <th>Age</th>\n",
              "      <th>Sex</th>\n",
              "      <th>Housing</th>\n",
              "      <th>Saving_accounts</th>\n",
              "      <th>Checking_account</th>\n",
              "      <th>Credit_amount</th>\n",
              "      <th>Duration</th>\n",
              "      <th>Purpose</th>\n",
              "      <th>Risk</th>\n",
              "    </tr>\n",
              "    <tr>\n",
              "      <th>cluster</th>\n",
              "      <th></th>\n",
              "      <th></th>\n",
              "      <th></th>\n",
              "      <th></th>\n",
              "      <th></th>\n",
              "      <th></th>\n",
              "      <th></th>\n",
              "      <th></th>\n",
              "      <th></th>\n",
              "    </tr>\n",
              "  </thead>\n",
              "  <tbody>\n",
              "    <tr>\n",
              "      <th>0</th>\n",
              "      <td>32.662</td>\n",
              "      <td>1.000</td>\n",
              "      <td>0.683</td>\n",
              "      <td>0.482</td>\n",
              "      <td>0.648</td>\n",
              "      <td>2206.450</td>\n",
              "      <td>16.835</td>\n",
              "      <td>1.881</td>\n",
              "      <td>0.313</td>\n",
              "    </tr>\n",
              "    <tr>\n",
              "      <th>1</th>\n",
              "      <td>36.728</td>\n",
              "      <td>0.000</td>\n",
              "      <td>0.338</td>\n",
              "      <td>0.483</td>\n",
              "      <td>0.668</td>\n",
              "      <td>2310.108</td>\n",
              "      <td>17.004</td>\n",
              "      <td>1.954</td>\n",
              "      <td>0.237</td>\n",
              "    </tr>\n",
              "    <tr>\n",
              "      <th>2</th>\n",
              "      <td>36.438</td>\n",
              "      <td>0.180</td>\n",
              "      <td>0.517</td>\n",
              "      <td>0.335</td>\n",
              "      <td>0.609</td>\n",
              "      <td>7871.719</td>\n",
              "      <td>39.174</td>\n",
              "      <td>2.865</td>\n",
              "      <td>0.472</td>\n",
              "    </tr>\n",
              "  </tbody>\n",
              "</table>\n",
              "</div>"
            ],
            "text/plain": [
              "           Age   Sex  Housing  ...  Duration  Purpose  Risk\n",
              "cluster                        ...                         \n",
              "0       32.662 1.000    0.683  ...    16.835    1.881 0.313\n",
              "1       36.728 0.000    0.338  ...    17.004    1.954 0.237\n",
              "2       36.438 0.180    0.517  ...    39.174    2.865 0.472\n",
              "\n",
              "[3 rows x 9 columns]"
            ]
          },
          "metadata": {
            "tags": []
          },
          "execution_count": 92
        }
      ]
    },
    {
      "cell_type": "markdown",
      "metadata": {
        "id": "t8za9ZGUJhLG",
        "colab_type": "text"
      },
      "source": [
        "An analysis of the clusters based on above table is found in the stakeholder report. \n",
        "We do not interpret the variables, which originally were categorical but we transformed to floats (Housing and Porpuse) because it does not make sense to weight the categories as numbers. "
      ]
    },
    {
      "cell_type": "markdown",
      "metadata": {
        "id": "ATbHbM1lW-l1",
        "colab_type": "text"
      },
      "source": [
        "###Conclusion on Unsupervised Machine Learning \n",
        "<p>In the PCA, attributes with strong similarities were gathered in 6 Principal Components and grouped into 3 clusters. In the three clusters the age only vary very little, from 32 - 36. However, the ones with a higher risk rating the are types in Cluster 1: Males, with a credit amount on aboout 7700 and a duration of 39 months. On the other hand, the types in Cluster 2 has a lower risk rating: Males with a credit amount of 2300 and and lower duration of only 17 months. \n",
        "  \n",
        "Customers with smaller loans and a lower durations therefore probably seem to be less of a risk, compared to customers with a bigger loan and higher duration. </p>  "
      ]
    },
    {
      "cell_type": "markdown",
      "metadata": {
        "id": "tI4Q5yBuviyN",
        "colab_type": "text"
      },
      "source": [
        "#Supervised machine learning \n"
      ]
    },
    {
      "cell_type": "markdown",
      "metadata": {
        "id": "3qI0FDbRzuWw",
        "colab_type": "text"
      },
      "source": [
        "**Library Imports for supervised ML**"
      ]
    },
    {
      "cell_type": "code",
      "metadata": {
        "id": "NeBLivIWn171",
        "colab_type": "code",
        "colab": {}
      },
      "source": [
        "!pip install -U mlxtend\n",
        "!pip install catboost\n",
        "from sklearn.preprocessing import LabelEncoder\n",
        "from imblearn.over_sampling import SMOTE\n",
        "from sklearn.model_selection import train_test_split\n",
        "from sklearn.model_selection import cross_val_score\n",
        "from sklearn.metrics import classification_report\n",
        "from sklearn.linear_model import LogisticRegression\n",
        "from mlxtend.plotting import plot_confusion_matrix\n",
        "from sklearn.metrics import confusion_matrix\n",
        "from sklearn.ensemble import RandomForestClassifier\n",
        "from catboost import CatBoostClassifier\n",
        "from sklearn.tree import DecisionTreeClassifier\n",
        "\n",
        "import xgboost as xgb\n",
        "import matplotlib.pyplot as plt\n",
        "import numpy as np\n",
        "\n",
        "%matplotlib inline"
      ],
      "execution_count": 0,
      "outputs": []
    },
    {
      "cell_type": "markdown",
      "metadata": {
        "id": "ZJ5m-9z4vmmx",
        "colab_type": "text"
      },
      "source": [
        "###Preprocessing for Supervised Machine Learning\n",
        "\n",
        "To create supervised machine learning models, the data needs furhter preprocessing. \n",
        "The purpose of supervised machine learning is to predict certain factors - in this case if a loaner is good or bad risk. The proprocessing consists of data splitting and in this case balancing unbalanced data. \n",
        "\n",
        "\n",
        "\n",
        "\n"
      ]
    },
    {
      "cell_type": "markdown",
      "metadata": {
        "id": "S2b3q2LWzZY7",
        "colab_type": "text"
      },
      "source": [
        "In order to these predicting models the data should be split into training and testing data sets. \n",
        "\n",
        "The training set is the amount of data, that the software will have access to and use as foundation for the model development. \n",
        "\n",
        "The testing set is used to evaluate the models. The testing set will test the models' ability to predict the outcome of the data which has been hidden so far. \n",
        "\n",
        "We set the test data to 25 % of the original data set. Also, the data has to normalized to perform supervised machine learning. This has already been done in earlier preprocessing and we are using the earlier defined variable **data_scaled** and our earlier defined **y variable**. \n",
        "\n",
        "For splitting we use the **train_test_split** function: "
      ]
    },
    {
      "cell_type": "code",
      "metadata": {
        "id": "jmbokMzOoBM7",
        "colab_type": "code",
        "colab": {}
      },
      "source": [
        "x_train, x_test, y_train, y_test = train_test_split(data_scaled, y, test_size=0.25, random_state = 36)"
      ],
      "execution_count": 0,
      "outputs": []
    },
    {
      "cell_type": "markdown",
      "metadata": {
        "id": "lFLkw4P90rhE",
        "colab_type": "text"
      },
      "source": [
        "The data has now been split and is saved in a training and testing data set, and should now be ready for supervised machine learning. \n",
        "\n",
        "But, first we want to look more into the distribution in the 'Risk' variable. In the explorative data analysis it was clear that for every factor there was a higher probability of being good risk than bad, which might indicate an inequality in the data "
      ]
    },
    {
      "cell_type": "code",
      "metadata": {
        "id": "aMUyEFVCoCgi",
        "colab_type": "code",
        "outputId": "711a67cf-e769-4ff9-933e-238b6de70a6c",
        "colab": {
          "base_uri": "https://localhost:8080/",
          "height": 362
        }
      },
      "source": [
        "#Plotting the risk variable to see the distribution \n",
        "pd.value_counts(Credit_data['Risk']).plot.bar()\n",
        "plt.title('Risk Distribution')\n",
        "plt.xlabel('Risk')\n",
        "plt.ylabel('Frequency')\n",
        "Credit_data['Risk'].value_counts()"
      ],
      "execution_count": 0,
      "outputs": [
        {
          "output_type": "execute_result",
          "data": {
            "text/plain": [
              "0.000    700\n",
              "1.000    300\n",
              "Name: Risk, dtype: int64"
            ]
          },
          "metadata": {
            "tags": []
          },
          "execution_count": 95
        },
        {
          "output_type": "display_data",
          "data": {
            "image/png": "[encoded data removed]",
            "text/plain": [
              "<Figure size 432x288 with 1 Axes>"
            ]
          },
          "metadata": {
            "tags": []
          }
        }
      ]
    },
    {
      "cell_type": "markdown",
      "metadata": {
        "id": "jr4m7Hqk2-Mr",
        "colab_type": "text"
      },
      "source": [
        "It is cleat that there is a significant higher amount of observation in the good risk categori than in the bad risk categori.\n",
        "\n",
        "We chack the exact amount of observations in the y-varibale ('risk') in the training training data set:"
      ]
    },
    {
      "cell_type": "code",
      "metadata": {
        "id": "VDypThEYoF2N",
        "colab_type": "code",
        "outputId": "9e304a88-6b1a-4ffd-c835-c0849d4edca8",
        "colab": {
          "base_uri": "https://localhost:8080/",
          "height": 52
        }
      },
      "source": [
        "print(format(sum(y_train==1)))\n",
        "print(format(sum(y_train==0)))"
      ],
      "execution_count": 0,
      "outputs": [
        {
          "output_type": "stream",
          "text": [
            "230\n",
            "520\n"
          ],
          "name": "stdout"
        }
      ]
    },
    {
      "cell_type": "markdown",
      "metadata": {
        "id": "VsHQ-HRA3rO1",
        "colab_type": "text"
      },
      "source": [
        "This shows that there are 230 observations in the training data defined as bad risk, while there are 520 observations defined as good risk. The unequal distribution will effect the predictions of the models. \n",
        "\n",
        "TO make the models more reliable, we use the function SMOTE to oversampel our dataset. This means that based on the existing data, the computer will generate more observation from how it think they will look like in order to the existing ones. "
      ]
    },
    {
      "cell_type": "code",
      "metadata": {
        "id": "jO994RJioJ64",
        "colab_type": "code",
        "colab": {}
      },
      "source": [
        "#Using SMOTE to oversampel \n",
        "sm = SMOTE(random_state=2)\n",
        "x_train, y_train = sm.fit_sample(x_train, y_train.ravel())"
      ],
      "execution_count": 0,
      "outputs": []
    },
    {
      "cell_type": "markdown",
      "metadata": {
        "id": "k1fxxV-gPV-W",
        "colab_type": "text"
      },
      "source": [
        "Printing the number of observations after SMOTING: "
      ]
    },
    {
      "cell_type": "code",
      "metadata": {
        "id": "mdIBIP51oMdN",
        "colab_type": "code",
        "outputId": "ca219779-f8bb-4a30-c639-cf7f23b79439",
        "colab": {
          "base_uri": "https://localhost:8080/",
          "height": 88
        }
      },
      "source": [
        "#How many observations in the training set categorized as bad risk after oversampling\n",
        "print(format(sum(y_train==1)))\n",
        "\n",
        "#How many observations in the trainng set categorized as good risk after oversampling\n",
        "print(format(sum(y_train==0)))\n",
        "\n",
        "#Are the number of observations equal in the x variable og and the y variable after oversampling?\n",
        "print(format(x_train.shape))\n",
        "print(format(y_train.shape))"
      ],
      "execution_count": 0,
      "outputs": [
        {
          "output_type": "stream",
          "text": [
            "520\n",
            "520\n",
            "(1040, 8)\n",
            "(1040,)\n"
          ],
          "name": "stdout"
        }
      ]
    },
    {
      "cell_type": "markdown",
      "metadata": {
        "id": "tu_J3s8HQF_v",
        "colab_type": "text"
      },
      "source": [
        "After SMOTING we see that the number of observations have changed to 520 in both good and bad risk. \n",
        "We also see that the features have been oversampled too, so x and y contains the same amount of observations. \n",
        "\n",
        "We are aware that this unequal distribution have effected the analysis so far both in the explorative analysis and the unsupervised analysis. But we have not been able to solve this problem until after we split the data for the supervised machine learning.\n",
        "\n",
        "However, now the foundation for predicting is valid and the data is ready for the prediction models"
      ]
    },
    {
      "cell_type": "markdown",
      "metadata": {
        "id": "buNhMk7LcG3F",
        "colab_type": "text"
      },
      "source": [
        "###Training and evaluation of prediction models\n",
        "\n",
        "in the following we will test 4 different predictive models: Logistic regression, RandomForrest, XGBoost and DecisionTree. It will be evaluated which of these models are the best solution"
      ]
    },
    {
      "cell_type": "markdown",
      "metadata": {
        "id": "8kdlw3ksSQ9o",
        "colab_type": "text"
      },
      "source": [
        "**Model 1: Logisitsk regression**"
      ]
    },
    {
      "cell_type": "code",
      "metadata": {
        "id": "DCx7VV3RcRq0",
        "colab_type": "code",
        "outputId": "e5f52b95-86a4-43d6-dcd1-299ce88d240a",
        "colab": {
          "base_uri": "https://localhost:8080/",
          "height": 266
        }
      },
      "source": [
        "model = LogisticRegression()\n",
        "\n",
        "scores = cross_val_score(model, x_train, y_train, cv = 5)\n",
        "print(scores)\n",
        "\n",
        "# Model training\n",
        "model.fit(x_train, y_train)\n",
        "\n",
        "predictions = model.predict(x_test)\n",
        "\n",
        "# Model performance on the test-set\n",
        "print(model.score(x_test, y_test))"
      ],
      "execution_count": 0,
      "outputs": [
        {
          "output_type": "stream",
          "text": [
            "[0.66346154 0.66346154 0.65384615 0.65865385 0.61057692]\n",
            "0.648\n"
          ],
          "name": "stdout"
        },
        {
          "output_type": "stream",
          "text": [
            "/usr/local/lib/python3.6/dist-packages/sklearn/linear_model/logistic.py:432: FutureWarning: Default solver will be changed to 'lbfgs' in 0.22. Specify a solver to silence this warning.\n",
            "  FutureWarning)\n",
            "/usr/local/lib/python3.6/dist-packages/sklearn/linear_model/logistic.py:432: FutureWarning: Default solver will be changed to 'lbfgs' in 0.22. Specify a solver to silence this warning.\n",
            "  FutureWarning)\n",
            "/usr/local/lib/python3.6/dist-packages/sklearn/linear_model/logistic.py:432: FutureWarning: Default solver will be changed to 'lbfgs' in 0.22. Specify a solver to silence this warning.\n",
            "  FutureWarning)\n",
            "/usr/local/lib/python3.6/dist-packages/sklearn/linear_model/logistic.py:432: FutureWarning: Default solver will be changed to 'lbfgs' in 0.22. Specify a solver to silence this warning.\n",
            "  FutureWarning)\n",
            "/usr/local/lib/python3.6/dist-packages/sklearn/linear_model/logistic.py:432: FutureWarning: Default solver will be changed to 'lbfgs' in 0.22. Specify a solver to silence this warning.\n",
            "  FutureWarning)\n",
            "/usr/local/lib/python3.6/dist-packages/sklearn/linear_model/logistic.py:432: FutureWarning: Default solver will be changed to 'lbfgs' in 0.22. Specify a solver to silence this warning.\n",
            "  FutureWarning)\n"
          ],
          "name": "stderr"
        }
      ]
    },
    {
      "cell_type": "markdown",
      "metadata": {
        "id": "Nj_uuJfudc4T",
        "colab_type": "text"
      },
      "source": [
        "<p>In this model the mean accuracy is about 65 %, which is decent but not great. We look into the performance of the logistic regression model</p>"
      ]
    },
    {
      "cell_type": "code",
      "metadata": {
        "id": "0gKZZ7YMdwb0",
        "colab_type": "code",
        "outputId": "6a7b035f-3605-472f-ddde-b0527545cba7",
        "colab": {
          "base_uri": "https://localhost:8080/",
          "height": 177
        }
      },
      "source": [
        "#Performance evaluation on logistic regression:\n",
        "y_pred = model.predict(x_test)\n",
        "\n",
        "print(classification_report(y_test, y_pred))"
      ],
      "execution_count": 0,
      "outputs": [
        {
          "output_type": "stream",
          "text": [
            "              precision    recall  f1-score   support\n",
            "\n",
            "         0.0       0.80      0.68      0.73       180\n",
            "         1.0       0.41      0.57      0.48        70\n",
            "\n",
            "    accuracy                           0.65       250\n",
            "   macro avg       0.61      0.62      0.61       250\n",
            "weighted avg       0.69      0.65      0.66       250\n",
            "\n"
          ],
          "name": "stdout"
        }
      ]
    },
    {
      "cell_type": "markdown",
      "metadata": {
        "id": "AFxPDFA-VmIU",
        "colab_type": "text"
      },
      "source": [
        "In the performance evaluation we see that out of 70 observation, the model predicted 57 % of the bad risk correct and 68 % of the good risk correct. But that also means that in respecively 43 % and 32 % of the times it predicted wrong. \n",
        "\n",
        "We visualize this performance in a confusion plot: "
      ]
    },
    {
      "cell_type": "code",
      "metadata": {
        "id": "jNdva5Q9pppL",
        "colab_type": "code",
        "outputId": "11cec2a1-cdbd-44f6-a5fe-63edf0f2b55f",
        "colab": {
          "base_uri": "https://localhost:8080/",
          "height": 326
        }
      },
      "source": [
        "#confusion matrix of logistic regression\n",
        "confmatrix = confusion_matrix(y_test,y_pred) \n",
        "\n",
        "\n",
        "plot_confusion_matrix(conf_mat=confmatrix,\n",
        "                                colorbar=True,\n",
        "                                show_absolute=True,\n",
        "                                show_normed=True)"
      ],
      "execution_count": 0,
      "outputs": [
        {
          "output_type": "execute_result",
          "data": {
            "text/plain": [
              "(<Figure size 432x288 with 2 Axes>,\n",
              " <matplotlib.axes._subplots.AxesSubplot at 0x7faef6ed3f98>)"
            ]
          },
          "metadata": {
            "tags": []
          },
          "execution_count": 101
        },
        {
          "output_type": "display_data",
          "data": {
            "image/png": "[encoded data removed]",
            "text/plain": [
              "<Figure size 432x288 with 2 Axes>"
            ]
          },
          "metadata": {
            "tags": []
          }
        }
      ]
    },
    {
      "cell_type": "markdown",
      "metadata": {
        "id": "XrT794G2W76W",
        "colab_type": "text"
      },
      "source": [
        "**Model 2: RandomForrest**"
      ]
    },
    {
      "cell_type": "code",
      "metadata": {
        "id": "S-kLViSDpsXe",
        "colab_type": "code",
        "outputId": "c89b74fd-7ddc-41dc-ab3e-30a6ad87736b",
        "colab": {
          "base_uri": "https://localhost:8080/",
          "height": 266
        }
      },
      "source": [
        "model = RandomForestClassifier()\n",
        "\n",
        "scores = cross_val_score(model, x_train, y_train, cv = 5)\n",
        "print(scores)\n",
        "\n",
        "# Model training\n",
        "model.fit(x_train, y_train)\n",
        "\n",
        "predictions = model.predict(x_test)\n",
        "\n",
        "# Model performance on the test-set\n",
        "print(model.score(x_test, y_test))"
      ],
      "execution_count": 0,
      "outputs": [
        {
          "output_type": "stream",
          "text": [
            "[0.68269231 0.6875     0.79326923 0.80288462 0.80769231]\n",
            "0.732\n"
          ],
          "name": "stdout"
        },
        {
          "output_type": "stream",
          "text": [
            "/usr/local/lib/python3.6/dist-packages/sklearn/ensemble/forest.py:245: FutureWarning: The default value of n_estimators will change from 10 in version 0.20 to 100 in 0.22.\n",
            "  \"10 in version 0.20 to 100 in 0.22.\", FutureWarning)\n",
            "/usr/local/lib/python3.6/dist-packages/sklearn/ensemble/forest.py:245: FutureWarning: The default value of n_estimators will change from 10 in version 0.20 to 100 in 0.22.\n",
            "  \"10 in version 0.20 to 100 in 0.22.\", FutureWarning)\n",
            "/usr/local/lib/python3.6/dist-packages/sklearn/ensemble/forest.py:245: FutureWarning: The default value of n_estimators will change from 10 in version 0.20 to 100 in 0.22.\n",
            "  \"10 in version 0.20 to 100 in 0.22.\", FutureWarning)\n",
            "/usr/local/lib/python3.6/dist-packages/sklearn/ensemble/forest.py:245: FutureWarning: The default value of n_estimators will change from 10 in version 0.20 to 100 in 0.22.\n",
            "  \"10 in version 0.20 to 100 in 0.22.\", FutureWarning)\n",
            "/usr/local/lib/python3.6/dist-packages/sklearn/ensemble/forest.py:245: FutureWarning: The default value of n_estimators will change from 10 in version 0.20 to 100 in 0.22.\n",
            "  \"10 in version 0.20 to 100 in 0.22.\", FutureWarning)\n",
            "/usr/local/lib/python3.6/dist-packages/sklearn/ensemble/forest.py:245: FutureWarning: The default value of n_estimators will change from 10 in version 0.20 to 100 in 0.22.\n",
            "  \"10 in version 0.20 to 100 in 0.22.\", FutureWarning)\n"
          ],
          "name": "stderr"
        }
      ]
    },
    {
      "cell_type": "markdown",
      "metadata": {
        "id": "wux0L_YnXj1g",
        "colab_type": "text"
      },
      "source": [
        "Here we have aveage accuracy of about 74 % which is an improvement from the logistic regression. What is the performance evaluation of this model: "
      ]
    },
    {
      "cell_type": "code",
      "metadata": {
        "id": "Ys_CWQ9upvXA",
        "colab_type": "code",
        "outputId": "c3b13e63-60f4-422d-b2ff-a1994696b31f",
        "colab": {
          "base_uri": "https://localhost:8080/",
          "height": 177
        }
      },
      "source": [
        "#Performance evaluation of RandomForrest:\n",
        "\n",
        "y_pred = model.predict(x_test)\n",
        "\n",
        "print(classification_report(y_test, y_pred))"
      ],
      "execution_count": 0,
      "outputs": [
        {
          "output_type": "stream",
          "text": [
            "              precision    recall  f1-score   support\n",
            "\n",
            "         0.0       0.80      0.84      0.82       180\n",
            "         1.0       0.52      0.46      0.49        70\n",
            "\n",
            "    accuracy                           0.73       250\n",
            "   macro avg       0.66      0.65      0.65       250\n",
            "weighted avg       0.72      0.73      0.73       250\n",
            "\n"
          ],
          "name": "stdout"
        }
      ]
    },
    {
      "cell_type": "markdown",
      "metadata": {
        "id": "lX15c1knYGWt",
        "colab_type": "text"
      },
      "source": [
        "THe RandomForrest model prdicts the bad risk right in 59 % of the times, which is almost the same as the logistic regression model. On the good risk it performs pretty well, here it predicts right in 79 % of the times. \n",
        "\n",
        "Visualy it looks like this: "
      ]
    },
    {
      "cell_type": "code",
      "metadata": {
        "id": "yB4S2fHepyUC",
        "colab_type": "code",
        "outputId": "60a6fa29-8d73-4841-9748-8916ec998552",
        "colab": {
          "base_uri": "https://localhost:8080/",
          "height": 326
        }
      },
      "source": [
        "#confusion matrix of RandomForrest model:\n",
        "confmatrix = confusion_matrix(y_test,y_pred) \n",
        "\n",
        "plot_confusion_matrix(conf_mat=confmatrix,\n",
        "                                colorbar=True,\n",
        "                                show_absolute=True,\n",
        "                                show_normed=True)"
      ],
      "execution_count": 0,
      "outputs": [
        {
          "output_type": "execute_result",
          "data": {
            "text/plain": [
              "(<Figure size 432x288 with 2 Axes>,\n",
              " <matplotlib.axes._subplots.AxesSubplot at 0x7faf06a8e860>)"
            ]
          },
          "metadata": {
            "tags": []
          },
          "execution_count": 104
        },
        {
          "output_type": "display_data",
          "data": {
            "image/png": "[encoded data removed]",
            "text/plain": [
              "<Figure size 432x288 with 2 Axes>"
            ]
          },
          "metadata": {
            "tags": []
          }
        }
      ]
    },
    {
      "cell_type": "markdown",
      "metadata": {
        "id": "5_p1YqanYuqS",
        "colab_type": "text"
      },
      "source": [
        "**Model 3: XGBoost**"
      ]
    },
    {
      "cell_type": "code",
      "metadata": {
        "id": "RA48PkZbqDqW",
        "colab_type": "code",
        "outputId": "af594cc5-5f0d-44e1-cf04-4a5798d4a15e",
        "colab": {
          "base_uri": "https://localhost:8080/",
          "height": 52
        }
      },
      "source": [
        "model = xgb.XGBClassifier()\n",
        "\n",
        "scores = cross_val_score(model, x_train, y_train, cv = 5)\n",
        "print(scores)\n",
        "\n",
        "# Model training\n",
        "model.fit(x_train, y_train)\n",
        "\n",
        "predictions = model.predict(x_test)\n",
        "\n",
        "# Model performance on the test-set\n",
        "print(model.score(x_test, y_test))"
      ],
      "execution_count": 0,
      "outputs": [
        {
          "output_type": "stream",
          "text": [
            "[0.75       0.68269231 0.76923077 0.79807692 0.82211538]\n",
            "0.724\n"
          ],
          "name": "stdout"
        }
      ]
    },
    {
      "cell_type": "markdown",
      "metadata": {
        "id": "09bxSPWjaxfy",
        "colab_type": "text"
      },
      "source": [
        "The XGboost model has an aveage accuracy of 72,4 % "
      ]
    },
    {
      "cell_type": "code",
      "metadata": {
        "id": "9PSY27hjsuc3",
        "colab_type": "code",
        "outputId": "58409ff3-7fc7-42c4-8ab3-75773f03d097",
        "colab": {
          "base_uri": "https://localhost:8080/",
          "height": 177
        }
      },
      "source": [
        "#Performance evaluation of XGBoost \n",
        "y_pred = model.predict(x_test)\n",
        "\n",
        "print(classification_report(y_test, y_pred))"
      ],
      "execution_count": 0,
      "outputs": [
        {
          "output_type": "stream",
          "text": [
            "              precision    recall  f1-score   support\n",
            "\n",
            "         0.0       0.84      0.76      0.80       180\n",
            "         1.0       0.51      0.64      0.57        70\n",
            "\n",
            "    accuracy                           0.72       250\n",
            "   macro avg       0.68      0.70      0.68       250\n",
            "weighted avg       0.75      0.72      0.73       250\n",
            "\n"
          ],
          "name": "stdout"
        }
      ]
    },
    {
      "cell_type": "markdown",
      "metadata": {
        "id": "1c-qDzv0a5nN",
        "colab_type": "text"
      },
      "source": [
        "The model predicts right 64 % of the times with bad risk, and 76 % of the times with good risk "
      ]
    },
    {
      "cell_type": "code",
      "metadata": {
        "id": "4dECmP1osxYl",
        "colab_type": "code",
        "outputId": "85cb51e0-2fd3-4b69-dad9-35e148166a81",
        "colab": {
          "base_uri": "https://localhost:8080/",
          "height": 326
        }
      },
      "source": [
        "#confusion matrix of XGboost \n",
        "confmatrix = confusion_matrix(y_test,y_pred) \n",
        "\n",
        "\n",
        "plot_confusion_matrix(conf_mat=confmatrix,\n",
        "                                colorbar=True,\n",
        "                                show_absolute=True,\n",
        "                                show_normed=True)"
      ],
      "execution_count": 0,
      "outputs": [
        {
          "output_type": "execute_result",
          "data": {
            "text/plain": [
              "(<Figure size 432x288 with 2 Axes>,\n",
              " <matplotlib.axes._subplots.AxesSubplot at 0x7faee2be6be0>)"
            ]
          },
          "metadata": {
            "tags": []
          },
          "execution_count": 107
        },
        {
          "output_type": "display_data",
          "data": {
            "image/png": "[encoded data removed]",
            "text/plain": [
              "<Figure size 432x288 with 2 Axes>"
            ]
          },
          "metadata": {
            "tags": []
          }
        }
      ]
    },
    {
      "cell_type": "markdown",
      "metadata": {
        "id": "0QX2WX0PbJZ_",
        "colab_type": "text"
      },
      "source": [
        "**Model 4: decisiontree**"
      ]
    },
    {
      "cell_type": "code",
      "metadata": {
        "id": "Bc5vXFOas0gc",
        "colab_type": "code",
        "outputId": "5fd1461a-a87d-434c-c27a-e0e1702565f1",
        "colab": {
          "base_uri": "https://localhost:8080/",
          "height": 52
        }
      },
      "source": [
        "model = DecisionTreeClassifier()\n",
        "\n",
        "scores = cross_val_score(model, x_train, y_train, cv = 5)\n",
        "print(scores)\n",
        "\n",
        "# Model training\n",
        "model.fit(x_train, y_train)\n",
        "\n",
        "predictions = model.predict(x_test)\n",
        "\n",
        "# Model performance on the test-set\n",
        "print(model.score(x_test, y_test))"
      ],
      "execution_count": 0,
      "outputs": [
        {
          "output_type": "stream",
          "text": [
            "[0.70673077 0.62019231 0.72115385 0.73557692 0.75961538]\n",
            "0.66\n"
          ],
          "name": "stdout"
        }
      ]
    },
    {
      "cell_type": "markdown",
      "metadata": {
        "id": "WMZZ5-4VbRKZ",
        "colab_type": "text"
      },
      "source": [
        "In this last model we have an aveage accuracy on about 67 % "
      ]
    },
    {
      "cell_type": "code",
      "metadata": {
        "id": "WoBsoGQXs2_w",
        "colab_type": "code",
        "outputId": "96fc7ac4-0cd2-4d21-dd5c-f1b8f30360c5",
        "colab": {
          "base_uri": "https://localhost:8080/",
          "height": 177
        }
      },
      "source": [
        "#Performance evaluation of desiciontree \n",
        "y_pred = model.predict(x_test)\n",
        "\n",
        "print(classification_report(y_test, y_pred))"
      ],
      "execution_count": 0,
      "outputs": [
        {
          "output_type": "stream",
          "text": [
            "              precision    recall  f1-score   support\n",
            "\n",
            "         0.0       0.80      0.71      0.75       180\n",
            "         1.0       0.42      0.53      0.47        70\n",
            "\n",
            "    accuracy                           0.66       250\n",
            "   macro avg       0.61      0.62      0.61       250\n",
            "weighted avg       0.69      0.66      0.67       250\n",
            "\n"
          ],
          "name": "stdout"
        }
      ]
    },
    {
      "cell_type": "markdown",
      "metadata": {
        "id": "Ks5aha1ObnrF",
        "colab_type": "text"
      },
      "source": [
        "The models predicts 56 % of the bad risks correct and 72 % of the good risks right. "
      ]
    },
    {
      "cell_type": "code",
      "metadata": {
        "id": "vL2jeVYTs5Vc",
        "colab_type": "code",
        "outputId": "e3f69ec4-e981-44eb-9761-13a7dc5c4ae9",
        "colab": {
          "base_uri": "https://localhost:8080/",
          "height": 326
        }
      },
      "source": [
        "#confusion matrix of decisiontree \n",
        "confmatrix = confusion_matrix(y_test,y_pred) \n",
        "\n",
        "\n",
        "plot_confusion_matrix(conf_mat=confmatrix,\n",
        "                                colorbar=True,\n",
        "                                show_absolute=True,\n",
        "                                show_normed=True)"
      ],
      "execution_count": 0,
      "outputs": [
        {
          "output_type": "execute_result",
          "data": {
            "text/plain": [
              "(<Figure size 432x288 with 2 Axes>,\n",
              " <matplotlib.axes._subplots.AxesSubplot at 0x7faee2a14358>)"
            ]
          },
          "metadata": {
            "tags": []
          },
          "execution_count": 110
        },
        {
          "output_type": "display_data",
          "data": {
            "image/png": "[encoded data removed]",
            "text/plain": [
              "<Figure size 432x288 with 2 Axes>"
            ]
          },
          "metadata": {
            "tags": []
          }
        }
      ]
    },
    {
      "cell_type": "markdown",
      "metadata": {
        "id": "pbUauuntc_AG",
        "colab_type": "text"
      },
      "source": [
        "###Conclusion on supervised prediction models\n",
        "\n",
        "In this paragraph we have tested four different models: Logistic regression, RandomForrest, XGBoost and decisiontree. \n",
        "\n",
        "The one having the highest aveage accuracy is the RandomForrest model with an aveage accuracy on 74 %, this is followed by the XGBoost model with an aveage accuracy on about 72 %. \n",
        "\n",
        "However the most interessting factor for a client would be to predict whenever a loaner is a bad risk. Therefore we will use the prediction of the bad risks from the performance evaluation to assess the most preferable model. Here the XGBoost model has the highest recall proportion on: this models predicts right in 64 % of the times with the bad risk. Since the XGBoost model also had a high average accuracy, it would be the most preferable model. \n",
        "\n",
        "Even Though this model is the most preferable in this analysis 64 % is not that ideal in the real life. Using this model would mean that almost half of the times a bank would not identify the bad risk loaners."
      ]
    }
  ]
}